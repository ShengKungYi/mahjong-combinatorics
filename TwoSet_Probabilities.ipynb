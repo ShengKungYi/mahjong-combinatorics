{
 "cells": [
  {
   "attachments": {},
   "cell_type": "markdown",
   "metadata": {},
   "source": [
    "## Two Set Mahjong Probability Calculations\n",
    "\n",
    "This notebook tabulates hand probabilities for a teaching Mahjong variant with a limited number of types and hand size:\n",
    "- **Tiles**: 72 tiles covering the bamboo (1-9 numeric) and circles (1-9 numeric) suits; four copies of each tile.\n",
    "- **Hand Size**: Players seek to complete a hand with 8 tiles, consisting of 2 sets of three (sequence or triplet; no quads) and 1 pair.\n",
    "- **No Calls**: All hands are concealed until completed / won.\n",
    "\n",
    "In traditional Mahjong, patterns of tiles in a completed hand are given point values based generally on their elegance and rarity: how do the rarities of those patterns change when we limit the types of tiles and the number of tiles in hand?"
   ]
  },
  {
   "cell_type": "code",
   "execution_count": 1,
   "metadata": {},
   "outputs": [],
   "source": [
    "import math\n",
    "import numpy as np\n",
    "import pandas as pd\n",
    "\n",
    "from itertools import product"
   ]
  },
  {
   "cell_type": "code",
   "execution_count": 2,
   "metadata": {},
   "outputs": [
    {
     "name": "stdout",
     "output_type": "stream",
     "text": [
      "(22330, 11)\n"
     ]
    },
    {
     "data": {
      "text/html": [
       "<div>\n",
       "<style scoped>\n",
       "    .dataframe tbody tr th:only-of-type {\n",
       "        vertical-align: middle;\n",
       "    }\n",
       "\n",
       "    .dataframe tbody tr th {\n",
       "        vertical-align: top;\n",
       "    }\n",
       "\n",
       "    .dataframe thead th {\n",
       "        text-align: right;\n",
       "    }\n",
       "</style>\n",
       "<table border=\"1\" class=\"dataframe\">\n",
       "  <thead>\n",
       "    <tr style=\"text-align: right;\">\n",
       "      <th></th>\n",
       "      <th>tile_vector</th>\n",
       "      <th>n_tiles</th>\n",
       "      <th>n_sets</th>\n",
       "      <th>n_triplets</th>\n",
       "      <th>n_sequences</th>\n",
       "      <th>n_blocks</th>\n",
       "      <th>n_pairs</th>\n",
       "      <th>max_pairs</th>\n",
       "      <th>n_koritsu</th>\n",
       "      <th>n_terminals</th>\n",
       "      <th>n_ways</th>\n",
       "    </tr>\n",
       "    <tr>\n",
       "      <th>tile_int</th>\n",
       "      <th></th>\n",
       "      <th></th>\n",
       "      <th></th>\n",
       "      <th></th>\n",
       "      <th></th>\n",
       "      <th></th>\n",
       "      <th></th>\n",
       "      <th></th>\n",
       "      <th></th>\n",
       "      <th></th>\n",
       "      <th></th>\n",
       "    </tr>\n",
       "  </thead>\n",
       "  <tbody>\n",
       "    <tr>\n",
       "      <th>11234455</th>\n",
       "      <td>211220000</td>\n",
       "      <td>8</td>\n",
       "      <td>1</td>\n",
       "      <td>0</td>\n",
       "      <td>1</td>\n",
       "      <td>2</td>\n",
       "      <td>2</td>\n",
       "      <td>3</td>\n",
       "      <td>0</td>\n",
       "      <td>1</td>\n",
       "      <td>3456</td>\n",
       "    </tr>\n",
       "    <tr>\n",
       "      <th>22666</th>\n",
       "      <td>020003000</td>\n",
       "      <td>5</td>\n",
       "      <td>1</td>\n",
       "      <td>1</td>\n",
       "      <td>0</td>\n",
       "      <td>1</td>\n",
       "      <td>1</td>\n",
       "      <td>1</td>\n",
       "      <td>0</td>\n",
       "      <td>0</td>\n",
       "      <td>24</td>\n",
       "    </tr>\n",
       "    <tr>\n",
       "      <th>22236669</th>\n",
       "      <td>031003001</td>\n",
       "      <td>8</td>\n",
       "      <td>2</td>\n",
       "      <td>2</td>\n",
       "      <td>0</td>\n",
       "      <td>0</td>\n",
       "      <td>0</td>\n",
       "      <td>0</td>\n",
       "      <td>2</td>\n",
       "      <td>1</td>\n",
       "      <td>256</td>\n",
       "    </tr>\n",
       "    <tr>\n",
       "      <th>22555678</th>\n",
       "      <td>020031110</td>\n",
       "      <td>8</td>\n",
       "      <td>2</td>\n",
       "      <td>1</td>\n",
       "      <td>1</td>\n",
       "      <td>1</td>\n",
       "      <td>1</td>\n",
       "      <td>1</td>\n",
       "      <td>0</td>\n",
       "      <td>0</td>\n",
       "      <td>1536</td>\n",
       "    </tr>\n",
       "    <tr>\n",
       "      <th>4667788</th>\n",
       "      <td>000102220</td>\n",
       "      <td>7</td>\n",
       "      <td>2</td>\n",
       "      <td>0</td>\n",
       "      <td>2</td>\n",
       "      <td>0</td>\n",
       "      <td>0</td>\n",
       "      <td>3</td>\n",
       "      <td>1</td>\n",
       "      <td>0</td>\n",
       "      <td>864</td>\n",
       "    </tr>\n",
       "    <tr>\n",
       "      <th>122249</th>\n",
       "      <td>130100001</td>\n",
       "      <td>6</td>\n",
       "      <td>1</td>\n",
       "      <td>1</td>\n",
       "      <td>0</td>\n",
       "      <td>0</td>\n",
       "      <td>0</td>\n",
       "      <td>0</td>\n",
       "      <td>3</td>\n",
       "      <td>2</td>\n",
       "      <td>256</td>\n",
       "    </tr>\n",
       "    <tr>\n",
       "      <th>1225</th>\n",
       "      <td>120010000</td>\n",
       "      <td>4</td>\n",
       "      <td>0</td>\n",
       "      <td>0</td>\n",
       "      <td>0</td>\n",
       "      <td>1</td>\n",
       "      <td>1</td>\n",
       "      <td>1</td>\n",
       "      <td>1</td>\n",
       "      <td>1</td>\n",
       "      <td>96</td>\n",
       "    </tr>\n",
       "    <tr>\n",
       "      <th>25589999</th>\n",
       "      <td>010020014</td>\n",
       "      <td>8</td>\n",
       "      <td>1</td>\n",
       "      <td>1</td>\n",
       "      <td>0</td>\n",
       "      <td>2</td>\n",
       "      <td>1</td>\n",
       "      <td>1</td>\n",
       "      <td>1</td>\n",
       "      <td>1</td>\n",
       "      <td>96</td>\n",
       "    </tr>\n",
       "    <tr>\n",
       "      <th>22255789</th>\n",
       "      <td>030020111</td>\n",
       "      <td>8</td>\n",
       "      <td>2</td>\n",
       "      <td>1</td>\n",
       "      <td>1</td>\n",
       "      <td>1</td>\n",
       "      <td>1</td>\n",
       "      <td>1</td>\n",
       "      <td>0</td>\n",
       "      <td>1</td>\n",
       "      <td>1536</td>\n",
       "    </tr>\n",
       "    <tr>\n",
       "      <th>12667799</th>\n",
       "      <td>110002202</td>\n",
       "      <td>8</td>\n",
       "      <td>0</td>\n",
       "      <td>0</td>\n",
       "      <td>0</td>\n",
       "      <td>4</td>\n",
       "      <td>3</td>\n",
       "      <td>3</td>\n",
       "      <td>0</td>\n",
       "      <td>2</td>\n",
       "      <td>3456</td>\n",
       "    </tr>\n",
       "  </tbody>\n",
       "</table>\n",
       "</div>"
      ],
      "text/plain": [
       "         tile_vector  n_tiles  n_sets  n_triplets  n_sequences  n_blocks  \\\n",
       "tile_int                                                                   \n",
       "11234455   211220000        8       1           0            1         2   \n",
       "22666      020003000        5       1           1            0         1   \n",
       "22236669   031003001        8       2           2            0         0   \n",
       "22555678   020031110        8       2           1            1         1   \n",
       "4667788    000102220        7       2           0            2         0   \n",
       "122249     130100001        6       1           1            0         0   \n",
       "1225       120010000        4       0           0            0         1   \n",
       "25589999   010020014        8       1           1            0         2   \n",
       "22255789   030020111        8       2           1            1         1   \n",
       "12667799   110002202        8       0           0            0         4   \n",
       "\n",
       "          n_pairs  max_pairs  n_koritsu  n_terminals  n_ways  \n",
       "tile_int                                                      \n",
       "11234455        2          3          0            1    3456  \n",
       "22666           1          1          0            0      24  \n",
       "22236669        0          0          2            1     256  \n",
       "22555678        1          1          0            0    1536  \n",
       "4667788         0          3          1            0     864  \n",
       "122249          0          0          3            2     256  \n",
       "1225            1          1          1            1      96  \n",
       "25589999        1          1          1            1      96  \n",
       "22255789        1          1          0            1    1536  \n",
       "12667799        3          3          0            2    3456  "
      ]
     },
     "execution_count": 2,
     "metadata": {},
     "output_type": "execute_result"
    }
   ],
   "source": [
    "# load pre-computed tile combination properties\n",
    "suited_df = pd.read_csv('./shanten_suuhai.csv', \n",
    "                        index_col='tile_int', \n",
    "                        dtype={'tile_vector': str})\n",
    "\n",
    "# trim to only combinations with eight or fewer tiles\n",
    "suited_df = suited_df[suited_df['n_tiles'] <= 8]\n",
    "\n",
    "print(suited_df.shape)\n",
    "suited_df.sample(10)"
   ]
  },
  {
   "cell_type": "code",
   "execution_count": 3,
   "metadata": {},
   "outputs": [],
   "source": [
    "def vector_to_int(t_vector):\n",
    "    t_int = ''\n",
    "    for i, cnt in zip(np.arange(1,len(t_vector)+1),t_vector):\n",
    "        t_int += cnt * str(i)\n",
    "    if t_int:\n",
    "        return int(t_int)\n",
    "    else:\n",
    "        return 0\n",
    "\n",
    "def int_to_vector(t_int, n_types=9):\n",
    "    t_vector = np.zeros(n_types, dtype=int)\n",
    "    t_int = str(t_int)\n",
    "    for i in t_int:\n",
    "        t_vector[int(i)-1] += 1\n",
    "    return t_vector"
   ]
  },
  {
   "attachments": {},
   "cell_type": "markdown",
   "metadata": {},
   "source": [
    "## General Probabilities\n",
    "- How many possible hands are there?\n",
    "- How many of those hands form a winning combination? (Tenhou/Chiihou equivalent)"
   ]
  },
  {
   "cell_type": "code",
   "execution_count": 4,
   "metadata": {},
   "outputs": [
    {
     "name": "stdout",
     "output_type": "stream",
     "text": [
      "11969016345\n"
     ]
    }
   ],
   "source": [
    "### How many possible hands are there, winning or otherwise?\n",
    "hands_by_tiles = suited_df.groupby('n_tiles').agg({'n_ways': sum})\n",
    "\n",
    "total_hands = 0\n",
    "for i in range(9):\n",
    "    total_hands += int(hands_by_tiles.values[i] * hands_by_tiles.values[8-i])\n",
    "\n",
    "print(total_hands)"
   ]
  },
  {
   "cell_type": "code",
   "execution_count": 5,
   "metadata": {},
   "outputs": [
    {
     "data": {
      "text/html": [
       "<div>\n",
       "<style scoped>\n",
       "    .dataframe tbody tr th:only-of-type {\n",
       "        vertical-align: middle;\n",
       "    }\n",
       "\n",
       "    .dataframe tbody tr th {\n",
       "        vertical-align: top;\n",
       "    }\n",
       "\n",
       "    .dataframe thead th {\n",
       "        text-align: right;\n",
       "    }\n",
       "</style>\n",
       "<table border=\"1\" class=\"dataframe\">\n",
       "  <thead>\n",
       "    <tr style=\"text-align: right;\">\n",
       "      <th></th>\n",
       "      <th>n_tiles</th>\n",
       "      <th>n_sets</th>\n",
       "      <th>n_pairs</th>\n",
       "      <th>n_ways</th>\n",
       "    </tr>\n",
       "  </thead>\n",
       "  <tbody>\n",
       "    <tr>\n",
       "      <th>0</th>\n",
       "      <td>0</td>\n",
       "      <td>0</td>\n",
       "      <td>0</td>\n",
       "      <td>1</td>\n",
       "    </tr>\n",
       "    <tr>\n",
       "      <th>1</th>\n",
       "      <td>2</td>\n",
       "      <td>0</td>\n",
       "      <td>1</td>\n",
       "      <td>54</td>\n",
       "    </tr>\n",
       "    <tr>\n",
       "      <th>2</th>\n",
       "      <td>3</td>\n",
       "      <td>1</td>\n",
       "      <td>0</td>\n",
       "      <td>484</td>\n",
       "    </tr>\n",
       "    <tr>\n",
       "      <th>3</th>\n",
       "      <td>5</td>\n",
       "      <td>1</td>\n",
       "      <td>1</td>\n",
       "      <td>19200</td>\n",
       "    </tr>\n",
       "    <tr>\n",
       "      <th>4</th>\n",
       "      <td>6</td>\n",
       "      <td>2</td>\n",
       "      <td>0</td>\n",
       "      <td>65272</td>\n",
       "    </tr>\n",
       "    <tr>\n",
       "      <th>5</th>\n",
       "      <td>8</td>\n",
       "      <td>2</td>\n",
       "      <td>1</td>\n",
       "      <td>1748756</td>\n",
       "    </tr>\n",
       "  </tbody>\n",
       "</table>\n",
       "</div>"
      ],
      "text/plain": [
       "   n_tiles  n_sets  n_pairs   n_ways\n",
       "0        0       0        0        1\n",
       "1        2       0        1       54\n",
       "2        3       1        0      484\n",
       "3        5       1        1    19200\n",
       "4        6       2        0    65272\n",
       "5        8       2        1  1748756"
      ]
     },
     "execution_count": 5,
     "metadata": {},
     "output_type": "execute_result"
    }
   ],
   "source": [
    "### How many possible winning hands are there?\n",
    "suited_complete = suited_df.query('(3 * n_sets + 2 * n_pairs == n_tiles) & (n_pairs <= 1)')\n",
    "suited_complete_ways = suited_complete.groupby(['n_tiles', 'n_sets', 'n_pairs']).sum(numeric_only=True)['n_ways'].reset_index()\n",
    "suited_complete_ways"
   ]
  },
  {
   "cell_type": "code",
   "execution_count": 6,
   "metadata": {},
   "outputs": [
    {
     "name": "stdout",
     "output_type": "stream",
     "text": [
      "29132488\n",
      "proportion: 0.0024340; 1 in 411\n"
     ]
    }
   ],
   "source": [
    "total_winning_hands = 0\n",
    "for i in range(6):\n",
    "    total_winning_hands += suited_complete_ways.loc[i, 'n_ways'] * suited_complete_ways.loc[5-i, 'n_ways']\n",
    "\n",
    "print(total_winning_hands)\n",
    "print(f\"proportion: {total_winning_hands/total_hands:0.7f}; 1 in {total_hands/total_winning_hands:.0f}\")"
   ]
  },
  {
   "attachments": {},
   "cell_type": "markdown",
   "metadata": {},
   "source": [
    "## Specific Hand Type Proportions\n",
    "- **All Simples** (_tanyao_): only numeric tiles from 2-8\n",
    "- **Included Terminals** (_junchan_): each set and the pair includes a 1 or 9\n",
    "- **All Sequences** (_pinfu_-like): two sequences and a pair\n",
    "- **All Triplets** (_toitoi_; _sanankou_-like): two triplets and a pair\n",
    "- **Full Flush** (_chinitsu_): all tiles are of a single numeric suit\n",
    "- **Two Identical Sequences** (_iipeikou_-like): two identical sequences, including same suit"
   ]
  },
  {
   "cell_type": "code",
   "execution_count": 7,
   "metadata": {},
   "outputs": [],
   "source": [
    "# defining sets for assembling winning combinations\n",
    "sequences = [int_to_vector(123), int_to_vector(234), int_to_vector(345), int_to_vector(456),\n",
    "             int_to_vector(567), int_to_vector(678), int_to_vector(789), np.zeros(9,dtype=int)]\n",
    "triplets  = [int_to_vector(111), int_to_vector(222), int_to_vector(333), int_to_vector(444), int_to_vector(555),\n",
    "             int_to_vector(666), int_to_vector(777), int_to_vector(888), int_to_vector(999), np.zeros(9,dtype=int)]\n",
    "\n",
    "pairs = [int_to_vector(11), int_to_vector(22), int_to_vector(33), int_to_vector(44), int_to_vector(55),\n",
    "         int_to_vector(66), int_to_vector(77), int_to_vector(88), int_to_vector(99), np.zeros(9,dtype=int)]\n",
    "\n",
    "terminal_sets  = [int_to_vector(111), int_to_vector(999),\n",
    "                  int_to_vector(123), int_to_vector(789), np.zeros(9,dtype=int)]\n",
    "terminal_pairs = [int_to_vector(11), int_to_vector(99), np.zeros(9,dtype=int)]"
   ]
  },
  {
   "cell_type": "code",
   "execution_count": 8,
   "metadata": {},
   "outputs": [],
   "source": [
    "def assemble_from_groups(*args):\n",
    "    test_groups = product(*args)\n",
    "\n",
    "    valid_groups = []\n",
    "    for test_group in test_groups:\n",
    "        test_vector = np.array(test_group).sum(axis=0)\n",
    "        if (test_vector <= 4).sum() == test_vector.size:\n",
    "            valid_groups.append(vector_to_int(test_vector))\n",
    "    valid_groups = np.unique(np.array(valid_groups))\n",
    "    \n",
    "    return valid_groups"
   ]
  },
  {
   "cell_type": "code",
   "execution_count": 9,
   "metadata": {},
   "outputs": [
    {
     "name": "stdout",
     "output_type": "stream",
     "text": [
      "9722776\n",
      "proportion: 0.3337434; 1 in 3.00\n"
     ]
    }
   ],
   "source": [
    "### All Simples\n",
    "simple_complete = suited_complete.query('n_terminals == 0')\n",
    "simple_complete_ways = simple_complete.groupby(['n_tiles', 'n_sets', 'n_pairs']).sum(numeric_only=True)['n_ways'].reset_index()\n",
    "\n",
    "winning_hands = 0\n",
    "for i in range(6):\n",
    "    winning_hands += simple_complete_ways.loc[i, 'n_ways'] * simple_complete_ways.loc[5-i, 'n_ways']\n",
    "\n",
    "print(winning_hands)\n",
    "print(f\"proportion: {winning_hands/total_winning_hands:0.7f}; 1 in {total_winning_hands/winning_hands:.2f}\")"
   ]
  },
  {
   "cell_type": "code",
   "execution_count": 10,
   "metadata": {},
   "outputs": [
    {
     "name": "stdout",
     "output_type": "stream",
     "text": [
      "402000\n",
      "proportion: 0.0137990; 1 in 72.5\n"
     ]
    }
   ],
   "source": [
    "### Included Terminals\n",
    "valid_groups = assemble_from_groups(terminal_sets, terminal_sets, terminal_pairs)\n",
    "\n",
    "terminal_complete = suited_complete.loc[valid_groups,:]\n",
    "terminal_complete_ways = terminal_complete.groupby(['n_tiles', 'n_sets', 'n_pairs']).sum(numeric_only=True)['n_ways'].reset_index()\n",
    "\n",
    "winning_hands = 0\n",
    "for i in range(6):\n",
    "    winning_hands += terminal_complete_ways.loc[i, 'n_ways'] * terminal_complete_ways.loc[5-i, 'n_ways']\n",
    "\n",
    "print(winning_hands)\n",
    "print(f\"proportion: {winning_hands/total_winning_hands:0.7f}; 1 in {total_winning_hands/winning_hands:.1f}\")"
   ]
  },
  {
   "cell_type": "code",
   "execution_count": 11,
   "metadata": {},
   "outputs": [
    {
     "name": "stdout",
     "output_type": "stream",
     "text": [
      "24161608\n",
      "proportion: 0.8293699; 1 in 1.21\n"
     ]
    }
   ],
   "source": [
    "### All Sequences\n",
    "valid_groups = assemble_from_groups(sequences, sequences, pairs)\n",
    "\n",
    "sequences_complete = suited_complete.loc[valid_groups,:]\n",
    "sequences_complete_ways = sequences_complete.groupby(['n_tiles', 'n_sets', 'n_pairs']).sum(numeric_only=True)['n_ways'].reset_index()\n",
    "\n",
    "winning_hands = 0\n",
    "for i in range(6):\n",
    "    winning_hands += sequences_complete_ways.loc[i, 'n_ways'] * sequences_complete_ways.loc[5-i, 'n_ways']\n",
    "\n",
    "print(winning_hands)\n",
    "print(f\"proportion: {winning_hands/total_winning_hands:0.7f}; 1 in {total_winning_hands/winning_hands:.2f}\")"
   ]
  },
  {
   "cell_type": "code",
   "execution_count": 12,
   "metadata": {},
   "outputs": [
    {
     "name": "stdout",
     "output_type": "stream",
     "text": [
      "235008\n",
      "proportion: 0.0080669; 1 in 124\n"
     ]
    }
   ],
   "source": [
    "### All Triplets\n",
    "valid_groups = assemble_from_groups(triplets, triplets, pairs)\n",
    "\n",
    "triplets_complete = suited_complete.loc[valid_groups,:]\n",
    "triplets_complete_ways = triplets_complete.groupby(['n_tiles', 'n_sets', 'n_pairs']).sum(numeric_only=True)['n_ways'].reset_index()\n",
    "\n",
    "winning_hands = 0\n",
    "for i in range(6):\n",
    "    winning_hands += triplets_complete_ways.loc[i, 'n_ways'] * triplets_complete_ways.loc[5-i, 'n_ways']\n",
    "\n",
    "print(winning_hands)\n",
    "print(f\"proportion: {winning_hands/total_winning_hands:0.7f}; 1 in {total_winning_hands/winning_hands:.0f}\")"
   ]
  },
  {
   "cell_type": "code",
   "execution_count": 13,
   "metadata": {},
   "outputs": [
    {
     "name": "stdout",
     "output_type": "stream",
     "text": [
      "3497512\n",
      "proportion: 0.1200554; 1 in 8.3\n"
     ]
    }
   ],
   "source": [
    "### Full Flush\n",
    "n_winning_hands = 2 * suited_complete_ways.loc[5, 'n_ways']\n",
    "\n",
    "print(n_winning_hands)\n",
    "print(f\"proportion: {n_winning_hands/total_winning_hands:0.7f}; 1 in {total_winning_hands/n_winning_hands:.1f}\")"
   ]
  },
  {
   "cell_type": "code",
   "execution_count": 14,
   "metadata": {},
   "outputs": [
    {
     "name": "stdout",
     "output_type": "stream",
     "text": [
      "258120\n",
      "proportion: 0.0088602; 1 in 113\n"
     ]
    }
   ],
   "source": [
    "### Two Identical Sequences\n",
    "identical_sequences = [x+x for x in sequences]\n",
    "valid_groups = assemble_from_groups(identical_sequences, pairs)\n",
    "\n",
    "iipeikou_complete = suited_complete.loc[valid_groups,:]\n",
    "iipeikou_complete_ways = iipeikou_complete.groupby(['n_tiles', 'n_sets', 'n_pairs']).sum(numeric_only=True)['n_ways'].reset_index()\n",
    "\n",
    "winning_hands = 0\n",
    "for i in range(4):\n",
    "    winning_hands += iipeikou_complete_ways.loc[i, 'n_ways'] * iipeikou_complete_ways.loc[3-i, 'n_ways']\n",
    "\n",
    "print(winning_hands)\n",
    "print(f\"proportion: {winning_hands/total_winning_hands:0.7f}; 1 in {total_winning_hands/winning_hands:.0f}\")\n"
   ]
  },
  {
   "attachments": {},
   "cell_type": "markdown",
   "metadata": {},
   "source": [
    "#### Special Hands\n",
    "\n",
    "- **Four Pairs** (_yontoitsu_): Four unique pairs of tiles."
   ]
  },
  {
   "cell_type": "code",
   "execution_count": 15,
   "metadata": {},
   "outputs": [
    {
     "name": "stdout",
     "output_type": "stream",
     "text": [
      "3965760\n",
      "proportion of all hands: 0.0003313; 1 in 3018\n",
      "ratio vs standard hands: 1 to 7.35\n"
     ]
    }
   ],
   "source": [
    "n_winning_hands = math.comb(2*9,4) * 6 ** 4\n",
    "\n",
    "print(n_winning_hands)\n",
    "print(f\"proportion of all hands: {n_winning_hands/total_hands:0.7f}; 1 in {total_hands/n_winning_hands:.0f}\")\n",
    "print(f\"ratio vs standard hands: 1 to {total_winning_hands/n_winning_hands:.2f}\")"
   ]
  },
  {
   "attachments": {},
   "cell_type": "markdown",
   "metadata": {},
   "source": [
    "## Shanten Calculations\n",
    "\n",
    "- What is the shanten distribution across all seven-tile hands, and what is the average shanten count?\n",
    "- Excludes consideration of _yontoitsu_ shanten; standard hands only."
   ]
  },
  {
   "cell_type": "code",
   "execution_count": 16,
   "metadata": {},
   "outputs": [],
   "source": [
    "suited_ways = suited_df.groupby(['n_tiles', 'n_sets', 'n_blocks', 'n_pairs']).agg({'n_ways': sum}).reset_index()\n",
    "suited_ways = suited_ways[suited_ways['n_tiles'] <= 7]"
   ]
  },
  {
   "cell_type": "code",
   "execution_count": 17,
   "metadata": {},
   "outputs": [],
   "source": [
    "shanten_ways = np.zeros(5,dtype=np.int64)\n",
    "\n",
    "combos = product(range(suited_ways.shape[0]),repeat=2)\n",
    "for sou_idx,pin_idx in combos:\n",
    "    sou_part = suited_ways.loc[sou_idx]\n",
    "    pin_part = suited_ways.loc[pin_idx]\n",
    "    hand = sou_part + pin_part\n",
    "    \n",
    "    # check if hand has the correct size\n",
    "    if hand['n_tiles'] != 7:\n",
    "        continue\n",
    "\n",
    "    # calculate shanten\n",
    "    has_pair = min(hand['n_pairs'], 1)\n",
    "    shanten = 4 - 2 * hand['n_sets'] - has_pair - min(hand['n_blocks']-has_pair, 2-hand['n_sets'])\n",
    "    shanten_ways[shanten] += sou_part['n_ways'] * pin_part['n_ways']"
   ]
  },
  {
   "cell_type": "code",
   "execution_count": 18,
   "metadata": {},
   "outputs": [
    {
     "name": "stdout",
     "output_type": "stream",
     "text": [
      "[ 49386696 676727040 708534528  38461440         0]\n",
      "tenpai chance: 0.0335255; 1 in 30\n",
      "average shanten: 1.50\n"
     ]
    }
   ],
   "source": [
    "print(shanten_ways)\n",
    "print(f'tenpai chance: {shanten_ways[0] / shanten_ways.sum():0.7f}; 1 in {shanten_ways.sum() / shanten_ways[0]:0.0f}')\n",
    "print(f'average shanten: {(shanten_ways * np.arange(5)).sum() / shanten_ways.sum():0.2f}')"
   ]
  },
  {
   "cell_type": "code",
   "execution_count": null,
   "metadata": {},
   "outputs": [],
   "source": []
  }
 ],
 "metadata": {
  "kernelspec": {
   "display_name": "base",
   "language": "python",
   "name": "python3"
  },
  "language_info": {
   "codemirror_mode": {
    "name": "ipython",
    "version": 3
   },
   "file_extension": ".py",
   "mimetype": "text/x-python",
   "name": "python",
   "nbconvert_exporter": "python",
   "pygments_lexer": "ipython3",
   "version": "3.9.16"
  },
  "orig_nbformat": 4
 },
 "nbformat": 4,
 "nbformat_minor": 2
}
