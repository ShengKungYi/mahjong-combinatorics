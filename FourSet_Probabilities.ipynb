{
 "cells": [
  {
   "attachments": {},
   "cell_type": "markdown",
   "metadata": {},
   "source": [
    "# Four Set Mahjong Probabilities\n",
    "\n",
    "This notebook tabulates hand probabilities for a teaching Mahjong variant with a limited number of types and hand size:\n",
    "- **Tiles**: 120 tiles covering the standard numeric suits (bamboo, circles, characters), plus dragons (white, green, red); four copies of each tile.\n",
    "- **Hand Size**: Players seek to complete a hand with 14 tiles, consisting of 4 sets of three (sequence or triplet; no quads) and 1 pair.\n",
    "- **Calls**: As a side note, calls for sequences (_chii_) and triplets (_pon_) are allowed.\n",
    "\n",
    "In traditional Mahjong, patterns of tiles in a completed hand are given point values based generally on their elegance and rarity: how do the rarities of those patterns change when we limit the types of tiles and the number of tiles in hand?"
   ]
  },
  {
   "cell_type": "code",
   "execution_count": 72,
   "metadata": {},
   "outputs": [],
   "source": [
    "import math\n",
    "import numpy as np\n",
    "import pandas as pd\n",
    "\n",
    "from itertools import product"
   ]
  },
  {
   "cell_type": "code",
   "execution_count": 73,
   "metadata": {},
   "outputs": [
    {
     "name": "stdout",
     "output_type": "stream",
     "text": [
      "(405350, 11)\n"
     ]
    },
    {
     "data": {
      "text/html": [
       "<div>\n",
       "<style scoped>\n",
       "    .dataframe tbody tr th:only-of-type {\n",
       "        vertical-align: middle;\n",
       "    }\n",
       "\n",
       "    .dataframe tbody tr th {\n",
       "        vertical-align: top;\n",
       "    }\n",
       "\n",
       "    .dataframe thead th {\n",
       "        text-align: right;\n",
       "    }\n",
       "</style>\n",
       "<table border=\"1\" class=\"dataframe\">\n",
       "  <thead>\n",
       "    <tr style=\"text-align: right;\">\n",
       "      <th></th>\n",
       "      <th>tile_vector</th>\n",
       "      <th>n_tiles</th>\n",
       "      <th>n_sets</th>\n",
       "      <th>n_triplets</th>\n",
       "      <th>n_sequences</th>\n",
       "      <th>n_blocks</th>\n",
       "      <th>n_pairs</th>\n",
       "      <th>max_pairs</th>\n",
       "      <th>n_koritsu</th>\n",
       "      <th>n_terminals</th>\n",
       "      <th>n_ways</th>\n",
       "    </tr>\n",
       "    <tr>\n",
       "      <th>tile_int</th>\n",
       "      <th></th>\n",
       "      <th></th>\n",
       "      <th></th>\n",
       "      <th></th>\n",
       "      <th></th>\n",
       "      <th></th>\n",
       "      <th></th>\n",
       "      <th></th>\n",
       "      <th></th>\n",
       "      <th></th>\n",
       "      <th></th>\n",
       "    </tr>\n",
       "  </thead>\n",
       "  <tbody>\n",
       "    <tr>\n",
       "      <th>133557778</th>\n",
       "      <td>102020310</td>\n",
       "      <td>9</td>\n",
       "      <td>1</td>\n",
       "      <td>1</td>\n",
       "      <td>0</td>\n",
       "      <td>2</td>\n",
       "      <td>2</td>\n",
       "      <td>3</td>\n",
       "      <td>1</td>\n",
       "      <td>1</td>\n",
       "      <td>2304</td>\n",
       "    </tr>\n",
       "    <tr>\n",
       "      <th>1111667788899</th>\n",
       "      <td>400002232</td>\n",
       "      <td>13</td>\n",
       "      <td>3</td>\n",
       "      <td>1</td>\n",
       "      <td>2</td>\n",
       "      <td>1</td>\n",
       "      <td>1</td>\n",
       "      <td>5</td>\n",
       "      <td>1</td>\n",
       "      <td>2</td>\n",
       "      <td>864</td>\n",
       "    </tr>\n",
       "    <tr>\n",
       "      <th>13335577788899</th>\n",
       "      <td>103020332</td>\n",
       "      <td>14</td>\n",
       "      <td>3</td>\n",
       "      <td>3</td>\n",
       "      <td>2</td>\n",
       "      <td>2</td>\n",
       "      <td>2</td>\n",
       "      <td>5</td>\n",
       "      <td>1</td>\n",
       "      <td>2</td>\n",
       "      <td>9216</td>\n",
       "    </tr>\n",
       "    <tr>\n",
       "      <th>1335566779999</th>\n",
       "      <td>102022204</td>\n",
       "      <td>13</td>\n",
       "      <td>3</td>\n",
       "      <td>1</td>\n",
       "      <td>2</td>\n",
       "      <td>1</td>\n",
       "      <td>1</td>\n",
       "      <td>5</td>\n",
       "      <td>1</td>\n",
       "      <td>2</td>\n",
       "      <td>5184</td>\n",
       "    </tr>\n",
       "    <tr>\n",
       "      <th>2444588</th>\n",
       "      <td>010310020</td>\n",
       "      <td>7</td>\n",
       "      <td>1</td>\n",
       "      <td>1</td>\n",
       "      <td>0</td>\n",
       "      <td>1</td>\n",
       "      <td>1</td>\n",
       "      <td>2</td>\n",
       "      <td>2</td>\n",
       "      <td>0</td>\n",
       "      <td>384</td>\n",
       "    </tr>\n",
       "    <tr>\n",
       "      <th>22233445667888</th>\n",
       "      <td>032212130</td>\n",
       "      <td>14</td>\n",
       "      <td>4</td>\n",
       "      <td>1</td>\n",
       "      <td>3</td>\n",
       "      <td>0</td>\n",
       "      <td>0</td>\n",
       "      <td>5</td>\n",
       "      <td>2</td>\n",
       "      <td>0</td>\n",
       "      <td>55296</td>\n",
       "    </tr>\n",
       "    <tr>\n",
       "      <th>12222333456688</th>\n",
       "      <td>143112020</td>\n",
       "      <td>14</td>\n",
       "      <td>3</td>\n",
       "      <td>2</td>\n",
       "      <td>2</td>\n",
       "      <td>2</td>\n",
       "      <td>2</td>\n",
       "      <td>4</td>\n",
       "      <td>0</td>\n",
       "      <td>1</td>\n",
       "      <td>9216</td>\n",
       "    </tr>\n",
       "    <tr>\n",
       "      <th>11233445557789</th>\n",
       "      <td>212230211</td>\n",
       "      <td>14</td>\n",
       "      <td>3</td>\n",
       "      <td>0</td>\n",
       "      <td>3</td>\n",
       "      <td>2</td>\n",
       "      <td>2</td>\n",
       "      <td>5</td>\n",
       "      <td>0</td>\n",
       "      <td>2</td>\n",
       "      <td>331776</td>\n",
       "    </tr>\n",
       "    <tr>\n",
       "      <th>133336888899</th>\n",
       "      <td>104001042</td>\n",
       "      <td>12</td>\n",
       "      <td>2</td>\n",
       "      <td>2</td>\n",
       "      <td>0</td>\n",
       "      <td>3</td>\n",
       "      <td>1</td>\n",
       "      <td>3</td>\n",
       "      <td>0</td>\n",
       "      <td>2</td>\n",
       "      <td>96</td>\n",
       "    </tr>\n",
       "    <tr>\n",
       "      <th>11113447888899</th>\n",
       "      <td>401200142</td>\n",
       "      <td>14</td>\n",
       "      <td>3</td>\n",
       "      <td>2</td>\n",
       "      <td>1</td>\n",
       "      <td>2</td>\n",
       "      <td>1</td>\n",
       "      <td>4</td>\n",
       "      <td>1</td>\n",
       "      <td>2</td>\n",
       "      <td>576</td>\n",
       "    </tr>\n",
       "  </tbody>\n",
       "</table>\n",
       "</div>"
      ],
      "text/plain": [
       "               tile_vector  n_tiles  n_sets  n_triplets  n_sequences  \\\n",
       "tile_int                                                               \n",
       "133557778        102020310        9       1           1            0   \n",
       "1111667788899    400002232       13       3           1            2   \n",
       "13335577788899   103020332       14       3           3            2   \n",
       "1335566779999    102022204       13       3           1            2   \n",
       "2444588          010310020        7       1           1            0   \n",
       "22233445667888   032212130       14       4           1            3   \n",
       "12222333456688   143112020       14       3           2            2   \n",
       "11233445557789   212230211       14       3           0            3   \n",
       "133336888899     104001042       12       2           2            0   \n",
       "11113447888899   401200142       14       3           2            1   \n",
       "\n",
       "                n_blocks  n_pairs  max_pairs  n_koritsu  n_terminals  n_ways  \n",
       "tile_int                                                                      \n",
       "133557778              2        2          3          1            1    2304  \n",
       "1111667788899          1        1          5          1            2     864  \n",
       "13335577788899         2        2          5          1            2    9216  \n",
       "1335566779999          1        1          5          1            2    5184  \n",
       "2444588                1        1          2          2            0     384  \n",
       "22233445667888         0        0          5          2            0   55296  \n",
       "12222333456688         2        2          4          0            1    9216  \n",
       "11233445557789         2        2          5          0            2  331776  \n",
       "133336888899           3        1          3          0            2      96  \n",
       "11113447888899         2        1          4          1            2     576  "
      ]
     },
     "execution_count": 73,
     "metadata": {},
     "output_type": "execute_result"
    }
   ],
   "source": [
    "# load pre-computed tile combination properties for numeric tiles\n",
    "suited_df = pd.read_csv('./shanten_suuhai.csv', \n",
    "                        index_col='tile_int', \n",
    "                        dtype={'tile_vector': str})\n",
    "\n",
    "print(suited_df.shape)\n",
    "suited_df.sample(10)"
   ]
  },
  {
   "cell_type": "code",
   "execution_count": 74,
   "metadata": {},
   "outputs": [
    {
     "name": "stdout",
     "output_type": "stream",
     "text": [
      "(125, 7)\n"
     ]
    },
    {
     "data": {
      "text/html": [
       "<div>\n",
       "<style scoped>\n",
       "    .dataframe tbody tr th:only-of-type {\n",
       "        vertical-align: middle;\n",
       "    }\n",
       "\n",
       "    .dataframe tbody tr th {\n",
       "        vertical-align: top;\n",
       "    }\n",
       "\n",
       "    .dataframe thead th {\n",
       "        text-align: right;\n",
       "    }\n",
       "</style>\n",
       "<table border=\"1\" class=\"dataframe\">\n",
       "  <thead>\n",
       "    <tr style=\"text-align: right;\">\n",
       "      <th></th>\n",
       "      <th>tile_vector</th>\n",
       "      <th>n_tiles</th>\n",
       "      <th>n_triplets</th>\n",
       "      <th>n_pairs</th>\n",
       "      <th>n_koritsu</th>\n",
       "      <th>n_terminals</th>\n",
       "      <th>n_ways</th>\n",
       "    </tr>\n",
       "    <tr>\n",
       "      <th>tile_int</th>\n",
       "      <th></th>\n",
       "      <th></th>\n",
       "      <th></th>\n",
       "      <th></th>\n",
       "      <th></th>\n",
       "      <th></th>\n",
       "      <th></th>\n",
       "    </tr>\n",
       "  </thead>\n",
       "  <tbody>\n",
       "    <tr>\n",
       "      <th>56667777</th>\n",
       "      <td>0000134</td>\n",
       "      <td>8</td>\n",
       "      <td>2</td>\n",
       "      <td>0</td>\n",
       "      <td>2</td>\n",
       "      <td>3</td>\n",
       "      <td>16</td>\n",
       "    </tr>\n",
       "    <tr>\n",
       "      <th>555666777</th>\n",
       "      <td>0000333</td>\n",
       "      <td>9</td>\n",
       "      <td>3</td>\n",
       "      <td>0</td>\n",
       "      <td>0</td>\n",
       "      <td>3</td>\n",
       "      <td>64</td>\n",
       "    </tr>\n",
       "    <tr>\n",
       "      <th>66777</th>\n",
       "      <td>0000023</td>\n",
       "      <td>5</td>\n",
       "      <td>1</td>\n",
       "      <td>1</td>\n",
       "      <td>0</td>\n",
       "      <td>2</td>\n",
       "      <td>24</td>\n",
       "    </tr>\n",
       "    <tr>\n",
       "      <th>566667777</th>\n",
       "      <td>0000144</td>\n",
       "      <td>9</td>\n",
       "      <td>2</td>\n",
       "      <td>0</td>\n",
       "      <td>3</td>\n",
       "      <td>3</td>\n",
       "      <td>4</td>\n",
       "    </tr>\n",
       "    <tr>\n",
       "      <th>66</th>\n",
       "      <td>0000020</td>\n",
       "      <td>2</td>\n",
       "      <td>0</td>\n",
       "      <td>1</td>\n",
       "      <td>0</td>\n",
       "      <td>1</td>\n",
       "      <td>6</td>\n",
       "    </tr>\n",
       "    <tr>\n",
       "      <th>6</th>\n",
       "      <td>0000010</td>\n",
       "      <td>1</td>\n",
       "      <td>0</td>\n",
       "      <td>0</td>\n",
       "      <td>1</td>\n",
       "      <td>1</td>\n",
       "      <td>4</td>\n",
       "    </tr>\n",
       "    <tr>\n",
       "      <th>555566677</th>\n",
       "      <td>0000432</td>\n",
       "      <td>9</td>\n",
       "      <td>2</td>\n",
       "      <td>1</td>\n",
       "      <td>1</td>\n",
       "      <td>3</td>\n",
       "      <td>24</td>\n",
       "    </tr>\n",
       "    <tr>\n",
       "      <th>5555666777</th>\n",
       "      <td>0000433</td>\n",
       "      <td>10</td>\n",
       "      <td>3</td>\n",
       "      <td>0</td>\n",
       "      <td>1</td>\n",
       "      <td>3</td>\n",
       "      <td>16</td>\n",
       "    </tr>\n",
       "    <tr>\n",
       "      <th>556666</th>\n",
       "      <td>0000240</td>\n",
       "      <td>6</td>\n",
       "      <td>1</td>\n",
       "      <td>1</td>\n",
       "      <td>1</td>\n",
       "      <td>2</td>\n",
       "      <td>6</td>\n",
       "    </tr>\n",
       "    <tr>\n",
       "      <th>555566</th>\n",
       "      <td>0000420</td>\n",
       "      <td>6</td>\n",
       "      <td>1</td>\n",
       "      <td>1</td>\n",
       "      <td>1</td>\n",
       "      <td>2</td>\n",
       "      <td>6</td>\n",
       "    </tr>\n",
       "  </tbody>\n",
       "</table>\n",
       "</div>"
      ],
      "text/plain": [
       "           tile_vector  n_tiles  n_triplets  n_pairs  n_koritsu  n_terminals  \\\n",
       "tile_int                                                                       \n",
       "56667777       0000134        8           2        0          2            3   \n",
       "555666777      0000333        9           3        0          0            3   \n",
       "66777          0000023        5           1        1          0            2   \n",
       "566667777      0000144        9           2        0          3            3   \n",
       "66             0000020        2           0        1          0            1   \n",
       "6              0000010        1           0        0          1            1   \n",
       "555566677      0000432        9           2        1          1            3   \n",
       "5555666777     0000433       10           3        0          1            3   \n",
       "556666         0000240        6           1        1          1            2   \n",
       "555566         0000420        6           1        1          1            2   \n",
       "\n",
       "            n_ways  \n",
       "tile_int            \n",
       "56667777        16  \n",
       "555666777       64  \n",
       "66777           24  \n",
       "566667777        4  \n",
       "66               6  \n",
       "6                4  \n",
       "555566677       24  \n",
       "5555666777      16  \n",
       "556666           6  \n",
       "555566           6  "
      ]
     },
     "execution_count": 74,
     "metadata": {},
     "output_type": "execute_result"
    }
   ],
   "source": [
    "# load pre-computed tile combination properties for honor tiles\n",
    "dragon_df = pd.read_csv('./shanten_jihai.csv', \n",
    "                        index_col='tile_int', \n",
    "                        dtype={'tile_vector': str})\n",
    "\n",
    "# trim to only combinations that only contain dragons\n",
    "no_winds = dragon_df['tile_vector'].apply(lambda x: x[:4]) == '0000'\n",
    "dragon_df = dragon_df[no_winds]\n",
    "\n",
    "print(dragon_df.shape)\n",
    "dragon_df.sample(10)"
   ]
  },
  {
   "cell_type": "code",
   "execution_count": 60,
   "metadata": {},
   "outputs": [],
   "source": [
    "def vector_to_int(t_vector):\n",
    "    t_int = ''\n",
    "    for i, cnt in zip(np.arange(1,len(t_vector)+1),t_vector):\n",
    "        t_int += cnt * str(i)\n",
    "    if t_int:\n",
    "        return int(t_int)\n",
    "    else:\n",
    "        return 0\n",
    "\n",
    "def int_to_vector(t_int, n_types=9):\n",
    "    t_vector = np.zeros(n_types, dtype=int)\n",
    "    t_int = str(t_int)\n",
    "    for i in t_int:\n",
    "        t_vector[int(i)-1] += 1\n",
    "    return t_vector\n",
    "\n",
    "def string_to_vector(t_str):\n",
    "    t_vector = np.zeros(9,dtype=int)\n",
    "    for i in range(len(t_str)):\n",
    "        t_vector[i] = int(t_str[i])\n",
    "    return t_vector"
   ]
  },
  {
   "attachments": {},
   "cell_type": "markdown",
   "metadata": {},
   "source": [
    "## General Probabilities\n",
    "- How many possible hands are there?\n",
    "- How many of those hands form a winning combination? (Tenhou/Chiihou equivalent)\n",
    "  - Standard hands: 4 sets + 1 pair\n",
    "  - Chiitoi hands: 7 pairs (which can overlap with standard hands as ryanpeikou)"
   ]
  },
  {
   "cell_type": "code",
   "execution_count": 5,
   "metadata": {},
   "outputs": [
    {
     "name": "stdout",
     "output_type": "stream",
     "text": [
      "669413654240461560\n"
     ]
    }
   ],
   "source": [
    "### How many possible hands are there, winning or otherwise?\n",
    "n_tiles = 30 * 4\n",
    "hand_size = 14\n",
    "total_hands = math.comb(n_tiles,hand_size)\n",
    "\n",
    "print(total_hands)"
   ]
  },
  {
   "cell_type": "code",
   "execution_count": 6,
   "metadata": {},
   "outputs": [
    {
     "data": {
      "text/html": [
       "<div>\n",
       "<style scoped>\n",
       "    .dataframe tbody tr th:only-of-type {\n",
       "        vertical-align: middle;\n",
       "    }\n",
       "\n",
       "    .dataframe tbody tr th {\n",
       "        vertical-align: top;\n",
       "    }\n",
       "\n",
       "    .dataframe thead th {\n",
       "        text-align: right;\n",
       "    }\n",
       "</style>\n",
       "<table border=\"1\" class=\"dataframe\">\n",
       "  <thead>\n",
       "    <tr style=\"text-align: right;\">\n",
       "      <th></th>\n",
       "      <th>n_tiles</th>\n",
       "      <th>n_sets</th>\n",
       "      <th>n_pairs</th>\n",
       "      <th>n_ways</th>\n",
       "    </tr>\n",
       "  </thead>\n",
       "  <tbody>\n",
       "    <tr>\n",
       "      <th>0</th>\n",
       "      <td>0</td>\n",
       "      <td>0</td>\n",
       "      <td>0</td>\n",
       "      <td>1</td>\n",
       "    </tr>\n",
       "    <tr>\n",
       "      <th>1</th>\n",
       "      <td>2</td>\n",
       "      <td>0</td>\n",
       "      <td>1</td>\n",
       "      <td>54</td>\n",
       "    </tr>\n",
       "    <tr>\n",
       "      <th>2</th>\n",
       "      <td>3</td>\n",
       "      <td>1</td>\n",
       "      <td>0</td>\n",
       "      <td>484</td>\n",
       "    </tr>\n",
       "    <tr>\n",
       "      <th>3</th>\n",
       "      <td>5</td>\n",
       "      <td>1</td>\n",
       "      <td>1</td>\n",
       "      <td>19200</td>\n",
       "    </tr>\n",
       "    <tr>\n",
       "      <th>4</th>\n",
       "      <td>6</td>\n",
       "      <td>2</td>\n",
       "      <td>0</td>\n",
       "      <td>65272</td>\n",
       "    </tr>\n",
       "    <tr>\n",
       "      <th>5</th>\n",
       "      <td>8</td>\n",
       "      <td>2</td>\n",
       "      <td>1</td>\n",
       "      <td>1748756</td>\n",
       "    </tr>\n",
       "    <tr>\n",
       "      <th>6</th>\n",
       "      <td>9</td>\n",
       "      <td>3</td>\n",
       "      <td>0</td>\n",
       "      <td>2742868</td>\n",
       "    </tr>\n",
       "    <tr>\n",
       "      <th>7</th>\n",
       "      <td>11</td>\n",
       "      <td>3</td>\n",
       "      <td>1</td>\n",
       "      <td>47037380</td>\n",
       "    </tr>\n",
       "    <tr>\n",
       "      <th>8</th>\n",
       "      <td>12</td>\n",
       "      <td>4</td>\n",
       "      <td>0</td>\n",
       "      <td>40399783</td>\n",
       "    </tr>\n",
       "    <tr>\n",
       "      <th>9</th>\n",
       "      <td>14</td>\n",
       "      <td>4</td>\n",
       "      <td>1</td>\n",
       "      <td>440593684</td>\n",
       "    </tr>\n",
       "  </tbody>\n",
       "</table>\n",
       "</div>"
      ],
      "text/plain": [
       "   n_tiles  n_sets  n_pairs     n_ways\n",
       "0        0       0        0          1\n",
       "1        2       0        1         54\n",
       "2        3       1        0        484\n",
       "3        5       1        1      19200\n",
       "4        6       2        0      65272\n",
       "5        8       2        1    1748756\n",
       "6        9       3        0    2742868\n",
       "7       11       3        1   47037380\n",
       "8       12       4        0   40399783\n",
       "9       14       4        1  440593684"
      ]
     },
     "execution_count": 6,
     "metadata": {},
     "output_type": "execute_result"
    }
   ],
   "source": [
    "### How many possible winning hands are there?\n",
    "### Standard Hands\n",
    "suited_complete = suited_df.query('(3 * n_sets + 2 * n_pairs == n_tiles) & n_pairs <= 1')\n",
    "suited_complete_ways = suited_complete.groupby(['n_tiles', 'n_sets', 'n_pairs']).sum(numeric_only=True)['n_ways'].reset_index()\n",
    "suited_complete_ways"
   ]
  },
  {
   "cell_type": "code",
   "execution_count": 7,
   "metadata": {},
   "outputs": [
    {
     "data": {
      "text/html": [
       "<div>\n",
       "<style scoped>\n",
       "    .dataframe tbody tr th:only-of-type {\n",
       "        vertical-align: middle;\n",
       "    }\n",
       "\n",
       "    .dataframe tbody tr th {\n",
       "        vertical-align: top;\n",
       "    }\n",
       "\n",
       "    .dataframe thead th {\n",
       "        text-align: right;\n",
       "    }\n",
       "</style>\n",
       "<table border=\"1\" class=\"dataframe\">\n",
       "  <thead>\n",
       "    <tr style=\"text-align: right;\">\n",
       "      <th></th>\n",
       "      <th>n_tiles</th>\n",
       "      <th>n_sets</th>\n",
       "      <th>n_pairs</th>\n",
       "      <th>n_ways</th>\n",
       "    </tr>\n",
       "  </thead>\n",
       "  <tbody>\n",
       "    <tr>\n",
       "      <th>0</th>\n",
       "      <td>0</td>\n",
       "      <td>0</td>\n",
       "      <td>0</td>\n",
       "      <td>1</td>\n",
       "    </tr>\n",
       "    <tr>\n",
       "      <th>1</th>\n",
       "      <td>2</td>\n",
       "      <td>0</td>\n",
       "      <td>1</td>\n",
       "      <td>18</td>\n",
       "    </tr>\n",
       "    <tr>\n",
       "      <th>2</th>\n",
       "      <td>3</td>\n",
       "      <td>1</td>\n",
       "      <td>0</td>\n",
       "      <td>12</td>\n",
       "    </tr>\n",
       "    <tr>\n",
       "      <th>3</th>\n",
       "      <td>5</td>\n",
       "      <td>1</td>\n",
       "      <td>1</td>\n",
       "      <td>144</td>\n",
       "    </tr>\n",
       "    <tr>\n",
       "      <th>4</th>\n",
       "      <td>6</td>\n",
       "      <td>2</td>\n",
       "      <td>0</td>\n",
       "      <td>48</td>\n",
       "    </tr>\n",
       "    <tr>\n",
       "      <th>5</th>\n",
       "      <td>8</td>\n",
       "      <td>2</td>\n",
       "      <td>1</td>\n",
       "      <td>288</td>\n",
       "    </tr>\n",
       "    <tr>\n",
       "      <th>6</th>\n",
       "      <td>9</td>\n",
       "      <td>3</td>\n",
       "      <td>0</td>\n",
       "      <td>64</td>\n",
       "    </tr>\n",
       "  </tbody>\n",
       "</table>\n",
       "</div>"
      ],
      "text/plain": [
       "   n_tiles  n_sets  n_pairs  n_ways\n",
       "0        0       0        0       1\n",
       "1        2       0        1      18\n",
       "2        3       1        0      12\n",
       "3        5       1        1     144\n",
       "4        6       2        0      48\n",
       "5        8       2        1     288\n",
       "6        9       3        0      64"
      ]
     },
     "execution_count": 7,
     "metadata": {},
     "output_type": "execute_result"
    }
   ],
   "source": [
    "dragon_complete = dragon_df.query('(3 * n_triplets + 2 * n_pairs == n_tiles) & (n_pairs <= 1)')\n",
    "dragon_complete_ways = dragon_complete.groupby(['n_tiles', 'n_triplets', 'n_pairs']).sum(numeric_only=True)['n_ways'].reset_index()\n",
    "dragon_complete_ways = dragon_complete_ways.rename(columns={'n_triplets':'n_sets'})\n",
    "dragon_complete_ways"
   ]
  },
  {
   "cell_type": "code",
   "execution_count": 8,
   "metadata": {},
   "outputs": [
    {
     "name": "stdout",
     "output_type": "stream",
     "text": [
      "8840918606082\n",
      "proportion: 1.321e-05; 1 in 75718\n"
     ]
    }
   ],
   "source": [
    "standard_winning_hands = 0\n",
    "for sou_idx in suited_complete_ways.index:\n",
    "    sou_part = suited_complete_ways.loc[sou_idx]\n",
    "\n",
    "    pin_ways = suited_complete_ways[suited_complete_ways['n_tiles'] <= 14-sou_part['n_tiles']]\n",
    "    for pin_idx in pin_ways.index:\n",
    "        pin_part = pin_ways.loc[pin_idx]\n",
    "\n",
    "        man_ways = suited_complete_ways[suited_complete_ways['n_tiles'] <= 14-sou_part['n_tiles']-pin_part['n_tiles']]\n",
    "        for man_idx in man_ways.index:\n",
    "            man_part = man_ways.loc[man_idx]\n",
    "\n",
    "            hon_ways = dragon_complete_ways[dragon_complete_ways['n_tiles'] == 14-sou_part['n_tiles']-pin_part['n_tiles']-man_part['n_tiles']]\n",
    "            for hon_idx in hon_ways.index:\n",
    "                hon_part = hon_ways.loc[hon_idx]\n",
    "                hand = sou_part + pin_part + man_part + hon_part\n",
    "\n",
    "                if hand['n_pairs'] == 1:\n",
    "                    standard_winning_hands += sou_part['n_ways'] * pin_part['n_ways'] * man_part['n_ways'] * hon_part['n_ways']\n",
    "\n",
    "print(standard_winning_hands)\n",
    "print(f\"proportion: {standard_winning_hands/total_hands:0.3e}; 1 in {total_hands/standard_winning_hands:.0f}\")"
   ]
  },
  {
   "cell_type": "code",
   "execution_count": 9,
   "metadata": {},
   "outputs": [
    {
     "data": {
      "text/html": [
       "<div>\n",
       "<style scoped>\n",
       "    .dataframe tbody tr th:only-of-type {\n",
       "        vertical-align: middle;\n",
       "    }\n",
       "\n",
       "    .dataframe tbody tr th {\n",
       "        vertical-align: top;\n",
       "    }\n",
       "\n",
       "    .dataframe thead th {\n",
       "        text-align: right;\n",
       "    }\n",
       "</style>\n",
       "<table border=\"1\" class=\"dataframe\">\n",
       "  <thead>\n",
       "    <tr style=\"text-align: right;\">\n",
       "      <th></th>\n",
       "      <th>n_tiles</th>\n",
       "      <th>n_sets</th>\n",
       "      <th>n_pairs</th>\n",
       "      <th>n_ways</th>\n",
       "    </tr>\n",
       "  </thead>\n",
       "  <tbody>\n",
       "    <tr>\n",
       "      <th>0</th>\n",
       "      <td>0</td>\n",
       "      <td>0</td>\n",
       "      <td>0</td>\n",
       "      <td>1</td>\n",
       "    </tr>\n",
       "    <tr>\n",
       "      <th>1</th>\n",
       "      <td>2</td>\n",
       "      <td>0</td>\n",
       "      <td>1</td>\n",
       "      <td>54</td>\n",
       "    </tr>\n",
       "    <tr>\n",
       "      <th>2</th>\n",
       "      <td>4</td>\n",
       "      <td>0</td>\n",
       "      <td>2</td>\n",
       "      <td>1296</td>\n",
       "    </tr>\n",
       "    <tr>\n",
       "      <th>3</th>\n",
       "      <td>6</td>\n",
       "      <td>0</td>\n",
       "      <td>3</td>\n",
       "      <td>16632</td>\n",
       "    </tr>\n",
       "    <tr>\n",
       "      <th>4</th>\n",
       "      <td>6</td>\n",
       "      <td>2</td>\n",
       "      <td>0</td>\n",
       "      <td>1512</td>\n",
       "    </tr>\n",
       "    <tr>\n",
       "      <th>5</th>\n",
       "      <td>8</td>\n",
       "      <td>0</td>\n",
       "      <td>4</td>\n",
       "      <td>116640</td>\n",
       "    </tr>\n",
       "    <tr>\n",
       "      <th>6</th>\n",
       "      <td>8</td>\n",
       "      <td>2</td>\n",
       "      <td>1</td>\n",
       "      <td>46656</td>\n",
       "    </tr>\n",
       "    <tr>\n",
       "      <th>7</th>\n",
       "      <td>10</td>\n",
       "      <td>0</td>\n",
       "      <td>5</td>\n",
       "      <td>396576</td>\n",
       "    </tr>\n",
       "    <tr>\n",
       "      <th>8</th>\n",
       "      <td>10</td>\n",
       "      <td>2</td>\n",
       "      <td>2</td>\n",
       "      <td>583200</td>\n",
       "    </tr>\n",
       "    <tr>\n",
       "      <th>9</th>\n",
       "      <td>12</td>\n",
       "      <td>0</td>\n",
       "      <td>6</td>\n",
       "      <td>466560</td>\n",
       "    </tr>\n",
       "    <tr>\n",
       "      <th>10</th>\n",
       "      <td>12</td>\n",
       "      <td>2</td>\n",
       "      <td>3</td>\n",
       "      <td>2985984</td>\n",
       "    </tr>\n",
       "    <tr>\n",
       "      <th>11</th>\n",
       "      <td>12</td>\n",
       "      <td>4</td>\n",
       "      <td>0</td>\n",
       "      <td>466560</td>\n",
       "    </tr>\n",
       "    <tr>\n",
       "      <th>12</th>\n",
       "      <td>14</td>\n",
       "      <td>2</td>\n",
       "      <td>4</td>\n",
       "      <td>5038848</td>\n",
       "    </tr>\n",
       "    <tr>\n",
       "      <th>13</th>\n",
       "      <td>14</td>\n",
       "      <td>4</td>\n",
       "      <td>1</td>\n",
       "      <td>5038848</td>\n",
       "    </tr>\n",
       "  </tbody>\n",
       "</table>\n",
       "</div>"
      ],
      "text/plain": [
       "    n_tiles  n_sets  n_pairs   n_ways\n",
       "0         0       0        0        1\n",
       "1         2       0        1       54\n",
       "2         4       0        2     1296\n",
       "3         6       0        3    16632\n",
       "4         6       2        0     1512\n",
       "5         8       0        4   116640\n",
       "6         8       2        1    46656\n",
       "7        10       0        5   396576\n",
       "8        10       2        2   583200\n",
       "9        12       0        6   466560\n",
       "10       12       2        3  2985984\n",
       "11       12       4        0   466560\n",
       "12       14       2        4  5038848\n",
       "13       14       4        1  5038848"
      ]
     },
     "execution_count": 9,
     "metadata": {},
     "output_type": "execute_result"
    }
   ],
   "source": [
    "### Chiitoitsu / Seven Pairs\n",
    "suited_pairs = suited_df.query('2 * max_pairs == n_tiles')\n",
    "suited_pairs_ways = suited_pairs.groupby(['n_tiles', 'n_sets', 'n_pairs']).sum(numeric_only=True)['n_ways'].reset_index()\n",
    "suited_pairs_ways"
   ]
  },
  {
   "cell_type": "code",
   "execution_count": 10,
   "metadata": {},
   "outputs": [
    {
     "data": {
      "text/html": [
       "<div>\n",
       "<style scoped>\n",
       "    .dataframe tbody tr th:only-of-type {\n",
       "        vertical-align: middle;\n",
       "    }\n",
       "\n",
       "    .dataframe tbody tr th {\n",
       "        vertical-align: top;\n",
       "    }\n",
       "\n",
       "    .dataframe thead th {\n",
       "        text-align: right;\n",
       "    }\n",
       "</style>\n",
       "<table border=\"1\" class=\"dataframe\">\n",
       "  <thead>\n",
       "    <tr style=\"text-align: right;\">\n",
       "      <th></th>\n",
       "      <th>n_tiles</th>\n",
       "      <th>n_sets</th>\n",
       "      <th>n_pairs</th>\n",
       "      <th>n_ways</th>\n",
       "    </tr>\n",
       "  </thead>\n",
       "  <tbody>\n",
       "    <tr>\n",
       "      <th>0</th>\n",
       "      <td>0</td>\n",
       "      <td>0</td>\n",
       "      <td>0</td>\n",
       "      <td>1</td>\n",
       "    </tr>\n",
       "    <tr>\n",
       "      <th>1</th>\n",
       "      <td>2</td>\n",
       "      <td>0</td>\n",
       "      <td>1</td>\n",
       "      <td>18</td>\n",
       "    </tr>\n",
       "    <tr>\n",
       "      <th>2</th>\n",
       "      <td>4</td>\n",
       "      <td>0</td>\n",
       "      <td>2</td>\n",
       "      <td>108</td>\n",
       "    </tr>\n",
       "    <tr>\n",
       "      <th>3</th>\n",
       "      <td>6</td>\n",
       "      <td>0</td>\n",
       "      <td>3</td>\n",
       "      <td>216</td>\n",
       "    </tr>\n",
       "  </tbody>\n",
       "</table>\n",
       "</div>"
      ],
      "text/plain": [
       "   n_tiles  n_sets  n_pairs  n_ways\n",
       "0        0       0        0       1\n",
       "1        2       0        1      18\n",
       "2        4       0        2     108\n",
       "3        6       0        3     216"
      ]
     },
     "execution_count": 10,
     "metadata": {},
     "output_type": "execute_result"
    }
   ],
   "source": [
    "dragon_pairs = dragon_df.query('2 * n_pairs == n_tiles')\n",
    "dragon_pairs_ways = dragon_pairs.groupby(['n_tiles', 'n_triplets', 'n_pairs']).sum(numeric_only=True)['n_ways'].reset_index()\n",
    "dragon_pairs_ways = dragon_pairs_ways.rename(columns={'n_triplets':'n_sets'})\n",
    "dragon_pairs_ways"
   ]
  },
  {
   "cell_type": "code",
   "execution_count": 11,
   "metadata": {},
   "outputs": [
    {
     "name": "stdout",
     "output_type": "stream",
     "text": [
      "568785162240\n",
      "proportion: 8.497e-07; 1 in 1176918\n",
      "ratio vs standard hands: 1 to 15.5\n"
     ]
    }
   ],
   "source": [
    "chiitoi_winning_hands = 0\n",
    "for sou_idx in suited_pairs_ways.index:\n",
    "    sou_part = suited_pairs_ways.loc[sou_idx]\n",
    "\n",
    "    pin_ways = suited_pairs_ways[suited_pairs_ways['n_tiles'] <= 14-sou_part['n_tiles']]\n",
    "    for pin_idx in pin_ways.index:\n",
    "        pin_part = pin_ways.loc[pin_idx]\n",
    "\n",
    "        man_ways = suited_pairs_ways[suited_pairs_ways['n_tiles'] <= 14-sou_part['n_tiles']-pin_part['n_tiles']]\n",
    "        for man_idx in man_ways.index:\n",
    "            man_part = man_ways.loc[man_idx]\n",
    "\n",
    "            hon_ways = dragon_pairs_ways[dragon_pairs_ways['n_tiles'] == 14-sou_part['n_tiles']-pin_part['n_tiles']-man_part['n_tiles']]\n",
    "            for hon_idx in hon_ways.index:\n",
    "                hon_part = hon_ways.loc[hon_idx]\n",
    "                hand = sou_part + pin_part + man_part + hon_part\n",
    "\n",
    "                if hand['n_sets'] != 4: # exclude hands that can form a standard hand\n",
    "                    chiitoi_winning_hands += sou_part['n_ways'] * pin_part['n_ways'] * man_part['n_ways'] * hon_part['n_ways']\n",
    "\n",
    "print(chiitoi_winning_hands)\n",
    "print(f\"proportion: {chiitoi_winning_hands/total_hands:0.3e}; 1 in {total_hands/chiitoi_winning_hands:.0f}\")\n",
    "print(f\"ratio vs standard hands: 1 to {standard_winning_hands/chiitoi_winning_hands:.1f}\")"
   ]
  },
  {
   "cell_type": "code",
   "execution_count": 12,
   "metadata": {},
   "outputs": [
    {
     "name": "stdout",
     "output_type": "stream",
     "text": [
      "9409703768322\n",
      "proportion: 1.406e-05; 1 in 71141\n"
     ]
    }
   ],
   "source": [
    "### Overall winning chances\n",
    "total_winning_hands = standard_winning_hands + chiitoi_winning_hands\n",
    "\n",
    "print(total_winning_hands)\n",
    "print(f\"proportion: {total_winning_hands/total_hands:0.3e}; 1 in {total_hands/total_winning_hands:.0f}\")"
   ]
  },
  {
   "attachments": {},
   "cell_type": "markdown",
   "metadata": {},
   "source": [
    "## Specific Hand Type Proportions\n",
    "- **Terminals and Honors**\n",
    "  - All Simples (_tanyao_): only numeric tiles from 2-8\n",
    "  - Included Terminals and Honors (_chanta_): each set and the pair includes a 1, 9, or dragon\n",
    "  - Included Terminals (_junchan_): each set and the pair includes a 1 or 9; no dragons\n",
    "  - All Terminals and Honors (_honroutou_): each set and the pair consists of only 1s, 9s, or dragons\n",
    "  - All Terminals (_chinroutou_): each set and the pair consists of only 1s or 9s; no dragons\n",
    "- **Set Consistency**\n",
    "  - All Sequences (_pinfu_-like): three sequences and a pair\n",
    "  - All Triplets (_toitoi_; _sanankou_-like): three triplets and a pair\n",
    "- **Dragon Triplets**\n",
    "  - Dragon Triplet (_yakuhai_): triplet of dragons\n",
    "  - 2x Dragon Triplet: two triplets of dragons\n",
    "  - Small Three Dragons (_shousangen_): two triplets of dragons + pair of third\n",
    "  - Big Three Dragons (_daisangen_): three triplets of dragons\n",
    "- **Single Numeric Suit**\n",
    "  - Half Flush (_honitsu_): all tiles are of a single numeric suit (bamboo, circles) or dragons\n",
    "  - Full Flush (_chinitsu_): all tiles are of a single numeric suit; no dragons\n",
    "- **Other Set Patterns**\n",
    "  - Two Identical Sequences (_iipeikou_-like): two identical sequences, including same suit\n",
    "  - Twice Two Identical Sequences (_ryanpeikou_-like): two instances of Two Identical Sequences\n",
    "  - Full Straight (_ikkitsuukan_): sequences of 1-9 in a single suit\n",
    "  - Three Similar Sequences (_sanshoku doujun_): three sequences with the same numbers, one in eacn suit\n",
    "  - Three Similar Triplets (_sanshoku doukou_): three triplets with the same numbers, one in each suit"
   ]
  },
  {
   "cell_type": "code",
   "execution_count": 13,
   "metadata": {},
   "outputs": [],
   "source": [
    "# defining sets for assembling winning combinations\n",
    "sequences = [int_to_vector(123), int_to_vector(234), int_to_vector(345), int_to_vector(456),\n",
    "             int_to_vector(567), int_to_vector(678), int_to_vector(789), np.zeros(9,dtype=int)]\n",
    "triplets  = [int_to_vector(111), int_to_vector(222), int_to_vector(333), int_to_vector(444), int_to_vector(555),\n",
    "             int_to_vector(666), int_to_vector(777), int_to_vector(888), int_to_vector(999), np.zeros(9,dtype=int)]\n",
    "sets      = sequences[:-1] + triplets\n",
    "\n",
    "pairs = [int_to_vector(11), int_to_vector(22), int_to_vector(33), int_to_vector(44), int_to_vector(55),\n",
    "         int_to_vector(66), int_to_vector(77), int_to_vector(88), int_to_vector(99), np.zeros(9,dtype=int)]\n",
    "\n",
    "terminal_sequences = [int_to_vector(123), int_to_vector(789), np.zeros(9,dtype=int)]\n",
    "terminal_triplets  = [int_to_vector(111), int_to_vector(999), np.zeros(9,dtype=int)]\n",
    "terminal_sets      = terminal_sequences[:-1] + terminal_triplets\n",
    "terminal_pairs     = [int_to_vector(11),  int_to_vector(99),  np.zeros(9,dtype=int)]"
   ]
  },
  {
   "cell_type": "code",
   "execution_count": 14,
   "metadata": {},
   "outputs": [],
   "source": [
    "def assemble_from_groups(*args):\n",
    "    test_groups = product(*args)\n",
    "\n",
    "    valid_groups = []\n",
    "    for test_group in test_groups:\n",
    "        test_vector = np.array(test_group).sum(axis=0)\n",
    "        if (test_vector <= 4).sum() == test_vector.size:\n",
    "            valid_groups.append(vector_to_int(test_vector))\n",
    "    valid_groups = np.unique(np.array(valid_groups))\n",
    "    \n",
    "    return valid_groups"
   ]
  },
  {
   "attachments": {},
   "cell_type": "markdown",
   "metadata": {},
   "source": [
    "### Terminals and Honors"
   ]
  },
  {
   "cell_type": "code",
   "execution_count": 15,
   "metadata": {},
   "outputs": [
    {
     "name": "stdout",
     "output_type": "stream",
     "text": [
      "931920119892\n",
      "proportion: 0.0990382; 1 in 10.10\n"
     ]
    }
   ],
   "source": [
    "### All Simples\n",
    "# standard hands\n",
    "simple_complete = suited_complete.query('n_terminals == 0')\n",
    "simple_complete_ways = simple_complete.groupby(['n_tiles', 'n_sets', 'n_pairs']).sum(numeric_only=True)['n_ways'].reset_index()\n",
    "\n",
    "winning_hands = 0\n",
    "for sou_idx in simple_complete_ways.index:\n",
    "    sou_part = simple_complete_ways.loc[sou_idx]\n",
    "\n",
    "    pin_ways = simple_complete_ways[simple_complete_ways['n_tiles'] <= 14-sou_part['n_tiles']]\n",
    "    for pin_idx in pin_ways.index:\n",
    "        pin_part = pin_ways.loc[pin_idx]\n",
    "\n",
    "        man_ways = simple_complete_ways[simple_complete_ways['n_tiles'] == 14-sou_part['n_tiles']-pin_part['n_tiles']]\n",
    "        for man_idx in man_ways.index:\n",
    "            man_part = man_ways.loc[man_idx]\n",
    "\n",
    "            hand = sou_part + pin_part + man_part\n",
    "\n",
    "            if hand['n_pairs'] == 1:\n",
    "                winning_hands += sou_part['n_ways'] * pin_part['n_ways'] * man_part['n_ways']\n",
    "\n",
    "# chiitoi hands\n",
    "simple_pairs = suited_df.query('2 * max_pairs == n_tiles & n_terminals == 0')\n",
    "simple_pairs_ways = simple_pairs.groupby(['n_tiles', 'n_sets', 'n_pairs']).sum(numeric_only=True)['n_ways'].reset_index()\n",
    "\n",
    "for sou_idx in simple_pairs_ways.index:\n",
    "    sou_part = simple_pairs_ways.loc[sou_idx]\n",
    "\n",
    "    pin_ways = simple_pairs_ways[simple_pairs_ways['n_tiles'] <= 14-sou_part['n_tiles']]\n",
    "    for pin_idx in pin_ways.index:\n",
    "        pin_part = pin_ways.loc[pin_idx]\n",
    "\n",
    "        man_ways = simple_pairs_ways[simple_pairs_ways['n_tiles'] == 14-sou_part['n_tiles']-pin_part['n_tiles']]\n",
    "        for man_idx in man_ways.index:\n",
    "            man_part = man_ways.loc[man_idx]\n",
    "\n",
    "            hand = sou_part + pin_part + man_part\n",
    "\n",
    "            if hand['n_sets'] != 4: # exclude hands that can form a standard hand\n",
    "                winning_hands += sou_part['n_ways'] * pin_part['n_ways'] * man_part['n_ways']\n",
    "\n",
    "print(winning_hands)\n",
    "print(f\"proportion: {winning_hands/total_winning_hands:0.7f}; 1 in {total_winning_hands/winning_hands:.2f}\")"
   ]
  },
  {
   "cell_type": "code",
   "execution_count": 16,
   "metadata": {},
   "outputs": [
    {
     "name": "stdout",
     "output_type": "stream",
     "text": [
      "9744752364\n",
      "proportion: 0.0010356; 1 in 966\n"
     ]
    }
   ],
   "source": [
    "### Included Terminals and Honors\n",
    "valid_groups = assemble_from_groups(terminal_sets, terminal_sets, terminal_sets, terminal_sets, terminal_pairs)\n",
    "\n",
    "terminal_complete = suited_complete.loc[valid_groups,:]\n",
    "terminal_complete_ways = terminal_complete.groupby(['n_tiles', 'n_sets', 'n_pairs']).sum(numeric_only=True)['n_ways'].reset_index()\n",
    "\n",
    "winning_hands = 0\n",
    "for hon_idx in dragon_complete_ways.index[1:]: # must include honor tiles\n",
    "    hon_part = dragon_complete_ways.loc[hon_idx]\n",
    "\n",
    "    sou_ways = terminal_complete_ways[terminal_complete_ways['n_tiles'] <= 14-hon_part['n_tiles']]\n",
    "    for sou_idx in terminal_complete_ways.index:\n",
    "        sou_part = terminal_complete_ways.loc[sou_idx]\n",
    "\n",
    "        pin_ways = terminal_complete_ways[terminal_complete_ways['n_tiles'] <= 14-hon_part['n_tiles']-sou_part['n_tiles']]\n",
    "        for pin_idx in pin_ways.index:\n",
    "            pin_part = pin_ways.loc[pin_idx]\n",
    "            \n",
    "            man_ways = terminal_complete_ways[terminal_complete_ways['n_tiles'] == 14-hon_part['n_tiles']-sou_part['n_tiles']-pin_part['n_tiles']] \n",
    "            for man_idx in man_ways.index:\n",
    "                man_part = man_ways.loc[man_idx]\n",
    "\n",
    "                hand = sou_part + pin_part + man_part + hon_part\n",
    "\n",
    "                if hand['n_pairs'] == 1: \n",
    "                    winning_hands += sou_part['n_ways'] * pin_part['n_ways'] * man_part['n_ways'] * hon_part['n_ways']\n",
    "\n",
    "winning_hands -= (math.comb(9, 4) * 5 - math.comb(6, 4) * 2) * 4 ** 4 * 6 # exclude \"All Terminals and Honors\" hands\n",
    "\n",
    "print(winning_hands)\n",
    "print(f\"proportion: {winning_hands/total_winning_hands:0.7f}; 1 in {total_winning_hands/winning_hands:.0f}\")"
   ]
  },
  {
   "cell_type": "code",
   "execution_count": 17,
   "metadata": {},
   "outputs": [
    {
     "name": "stdout",
     "output_type": "stream",
     "text": [
      "6368641140\n",
      "proportion: 0.0006768; 1 in 1478\n"
     ]
    }
   ],
   "source": [
    "### Included Terminals\n",
    "winning_hands = 0\n",
    "for sou_idx in terminal_complete_ways.index:\n",
    "    sou_part = terminal_complete_ways.loc[sou_idx]\n",
    "\n",
    "    pin_ways = terminal_complete_ways[terminal_complete_ways['n_tiles'] <= 14-sou_part['n_tiles']]\n",
    "    for pin_idx in pin_ways.index:\n",
    "        pin_part = pin_ways.loc[pin_idx]\n",
    "        \n",
    "        man_ways = terminal_complete_ways[terminal_complete_ways['n_tiles'] == 14-sou_part['n_tiles']-pin_part['n_tiles']] \n",
    "        for man_idx in man_ways.index:\n",
    "            man_part = man_ways.loc[man_idx]\n",
    "\n",
    "            hand = sou_part + pin_part + man_part\n",
    "\n",
    "            if hand['n_pairs'] == 1: \n",
    "                winning_hands += sou_part['n_ways'] * pin_part['n_ways'] * man_part['n_ways']\n",
    "\n",
    "winning_hands -= math.comb(6, 4) * 2 * 4 ** 4 * 6 # exclude \"All Terminals\" hands\n",
    "\n",
    "print(winning_hands)\n",
    "print(f\"proportion: {winning_hands/total_winning_hands:0.7f}; 1 in {total_winning_hands/winning_hands:.0f}\")\n"
   ]
  },
  {
   "cell_type": "code",
   "execution_count": 18,
   "metadata": {},
   "outputs": [
    {
     "name": "stdout",
     "output_type": "stream",
     "text": [
      "1201536\n",
      "proportion: 1.277e-07; 1 in 7831396\n"
     ]
    }
   ],
   "source": [
    "### All Terminals and Honors\n",
    "winning_hands  = math.comb(9, 4) * 5 # select four sets and pair\n",
    "winning_hands -= math.comb(6, 4) * 2 # exclude \"All Terminals\" hands\n",
    "winning_hands *= 4 ** 4 * 6 # select tiles within each group\n",
    "\n",
    "winning_hands += 6 ** 7 # chiitoi pattern hands\n",
    "\n",
    "print(winning_hands)\n",
    "print(f\"proportion: {winning_hands/total_winning_hands:0.3e}; 1 in {total_winning_hands/winning_hands:.0f}\")"
   ]
  },
  {
   "cell_type": "code",
   "execution_count": 19,
   "metadata": {},
   "outputs": [
    {
     "name": "stdout",
     "output_type": "stream",
     "text": [
      "46080\n",
      "proportion: 4.897e-09; 1 in 204203641\n"
     ]
    }
   ],
   "source": [
    "### All Terminals\n",
    "winning_hands  = math.comb(6, 4) * 2 # select four sets and pair\n",
    "winning_hands *= 4 ** 4 * 6 # select tiles within each group\n",
    "\n",
    "print(winning_hands)\n",
    "print(f\"proportion: {winning_hands/total_winning_hands:0.3e}; 1 in {total_winning_hands/winning_hands:.0f}\")"
   ]
  },
  {
   "attachments": {},
   "cell_type": "markdown",
   "metadata": {},
   "source": [
    "### Set Consistency"
   ]
  },
  {
   "cell_type": "code",
   "execution_count": 20,
   "metadata": {},
   "outputs": [
    {
     "name": "stdout",
     "output_type": "stream",
     "text": [
      "5604375406650\n",
      "proportion: 0.5955953; 1 in 1.68\n"
     ]
    }
   ],
   "source": [
    "# All Sequences\n",
    "valid_groups = assemble_from_groups(sequences, sequences, sequences, sequences, pairs)\n",
    "\n",
    "sequences_complete = suited_complete.loc[valid_groups,:]\n",
    "sequences_complete_ways = sequences_complete.groupby(['n_tiles', 'n_sets', 'n_pairs']).sum(numeric_only=True)['n_ways'].reset_index()\n",
    "\n",
    "winning_hands = 0\n",
    "for hon_idx in range(2): # include honor tiles as possible\n",
    "    hon_part = dragon_complete_ways.loc[hon_idx]\n",
    "\n",
    "    sou_ways = sequences_complete_ways[sequences_complete_ways['n_tiles'] <= 14-hon_part['n_tiles']]\n",
    "    for sou_idx in sou_ways.index:\n",
    "        sou_part = sequences_complete_ways.loc[sou_idx]\n",
    "\n",
    "        pin_ways = sequences_complete_ways[sequences_complete_ways['n_tiles'] <= 14-hon_part['n_tiles']-sou_part['n_tiles']]\n",
    "        for pin_idx in pin_ways.index:\n",
    "            pin_part = pin_ways.loc[pin_idx]\n",
    "            \n",
    "            man_ways = sequences_complete_ways[sequences_complete_ways['n_tiles'] == 14-hon_part['n_tiles']-sou_part['n_tiles']-pin_part['n_tiles']] \n",
    "            for man_idx in man_ways.index:\n",
    "                man_part = man_ways.loc[man_idx]\n",
    "\n",
    "                hand = sou_part + pin_part + man_part + hon_part\n",
    "\n",
    "                if hand['n_pairs'] == 1: \n",
    "                    winning_hands += sou_part['n_ways'] * pin_part['n_ways'] * man_part['n_ways'] * hon_part['n_ways']\n",
    "\n",
    "print(winning_hands)\n",
    "print(f\"proportion: {winning_hands/total_winning_hands:0.7f}; 1 in {total_winning_hands/winning_hands:.2f}\")"
   ]
  },
  {
   "cell_type": "code",
   "execution_count": 21,
   "metadata": {},
   "outputs": [
    {
     "name": "stdout",
     "output_type": "stream",
     "text": [
      "4778454510672\n",
      "proportion: 0.5078220; 1 in 1.97\n"
     ]
    }
   ],
   "source": [
    "# All Sequences; no dragons\n",
    "winning_hands = 0\n",
    "for sou_idx in sequences_complete_ways.index:\n",
    "    sou_part = sequences_complete_ways.loc[sou_idx]\n",
    "\n",
    "    pin_ways = sequences_complete_ways[sequences_complete_ways['n_tiles'] <= 14-sou_part['n_tiles']]\n",
    "    for pin_idx in pin_ways.index:\n",
    "        pin_part = pin_ways.loc[pin_idx]\n",
    "        \n",
    "        man_ways = sequences_complete_ways[sequences_complete_ways['n_tiles'] == 14-sou_part['n_tiles']-pin_part['n_tiles']] \n",
    "        for man_idx in man_ways.index:\n",
    "            man_part = man_ways.loc[man_idx]\n",
    "\n",
    "            hand = sou_part + pin_part + man_part\n",
    "\n",
    "            if hand['n_pairs'] == 1: \n",
    "                winning_hands += sou_part['n_ways'] * pin_part['n_ways'] * man_part['n_ways']\n",
    "\n",
    "print(winning_hands)\n",
    "print(f\"proportion: {winning_hands/total_winning_hands:0.7f}; 1 in {total_winning_hands/winning_hands:.2f}\")"
   ]
  },
  {
   "cell_type": "code",
   "execution_count": 22,
   "metadata": {},
   "outputs": [
    {
     "name": "stdout",
     "output_type": "stream",
     "text": [
      "1094446080\n",
      "proportion: 0.0001163; 1 in 8598\n"
     ]
    }
   ],
   "source": [
    "# All Triplets\n",
    "winning_hands  = math.comb(30,4) * 26 # select four sets and a pair\n",
    "winning_hands *= 4 ** 4 * 6 # select tiles within each group\n",
    "\n",
    "print(winning_hands)\n",
    "print(f\"proportion: {winning_hands/total_winning_hands:0.7f}; 1 in {total_winning_hands/winning_hands:.0f}\")"
   ]
  },
  {
   "attachments": {},
   "cell_type": "markdown",
   "metadata": {},
   "source": [
    "### Dragon Triplets"
   ]
  },
  {
   "cell_type": "code",
   "execution_count": 23,
   "metadata": {},
   "outputs": [
    {
     "name": "stdout",
     "output_type": "stream",
     "text": [
      "493083162000\n",
      "proportion: 0.0524016; 1 in 19.1\n"
     ]
    }
   ],
   "source": [
    "### One Dragon Triplet\n",
    "# honors index 2 (non-dragon pair) or 3 (dragon pair)\n",
    "\n",
    "winning_hands = 0\n",
    "for hon_idx in range(2,4): # must include honor tiles\n",
    "    hon_part = dragon_complete_ways.loc[hon_idx]\n",
    "\n",
    "    sou_ways = suited_complete_ways[suited_complete_ways['n_tiles'] <= 14-hon_part['n_tiles']]\n",
    "    for sou_idx in suited_complete_ways.index:\n",
    "        sou_part = suited_complete_ways.loc[sou_idx]\n",
    "\n",
    "        pin_ways = suited_complete_ways[suited_complete_ways['n_tiles'] <= 14-hon_part['n_tiles']-sou_part['n_tiles']]\n",
    "        for pin_idx in pin_ways.index:\n",
    "            pin_part = pin_ways.loc[pin_idx]\n",
    "            \n",
    "            man_ways = suited_complete_ways[suited_complete_ways['n_tiles'] == 14-hon_part['n_tiles']-sou_part['n_tiles']-pin_part['n_tiles']] \n",
    "            for man_idx in man_ways.index:\n",
    "                man_part = man_ways.loc[man_idx]\n",
    "\n",
    "                hand = sou_part + pin_part + man_part + hon_part\n",
    "\n",
    "                if hand['n_pairs'] == 1: \n",
    "                    winning_hands += sou_part['n_ways'] * pin_part['n_ways'] * man_part['n_ways'] * hon_part['n_ways']\n",
    "\n",
    "print(winning_hands)\n",
    "print(f\"proportion: {winning_hands/total_winning_hands:0.7f}; 1 in {total_winning_hands/winning_hands:.1f}\")"
   ]
  },
  {
   "cell_type": "code",
   "execution_count": 24,
   "metadata": {},
   "outputs": [
    {
     "name": "stdout",
     "output_type": "stream",
     "text": [
      "5764832064\n",
      "proportion: 0.0006126; 1 in 1632\n"
     ]
    }
   ],
   "source": [
    "### Two Dragon Triplets\n",
    "# honors index 4\n",
    "\n",
    "winning_hands = 0\n",
    "\n",
    "hon_part = dragon_complete_ways.loc[4]\n",
    "sou_ways = suited_complete_ways[suited_complete_ways['n_tiles'] <= 14-hon_part['n_tiles']]\n",
    "for sou_idx in suited_complete_ways.index:\n",
    "    sou_part = suited_complete_ways.loc[sou_idx]\n",
    "\n",
    "    pin_ways = suited_complete_ways[suited_complete_ways['n_tiles'] <= 14-hon_part['n_tiles']-sou_part['n_tiles']]\n",
    "    for pin_idx in pin_ways.index:\n",
    "        pin_part = pin_ways.loc[pin_idx]\n",
    "        \n",
    "        man_ways = suited_complete_ways[suited_complete_ways['n_tiles'] == 14-hon_part['n_tiles']-sou_part['n_tiles']-pin_part['n_tiles']] \n",
    "        for man_idx in man_ways.index:\n",
    "            man_part = man_ways.loc[man_idx]\n",
    "\n",
    "            hand = sou_part + pin_part + man_part + hon_part\n",
    "\n",
    "            if hand['n_pairs'] == 1: \n",
    "                winning_hands += sou_part['n_ways'] * pin_part['n_ways'] * man_part['n_ways'] * hon_part['n_ways']\n",
    "\n",
    "print(winning_hands)\n",
    "print(f\"proportion: {winning_hands/total_winning_hands:0.7f}; 1 in {total_winning_hands/winning_hands:.0f}\")"
   ]
  },
  {
   "cell_type": "code",
   "execution_count": 25,
   "metadata": {},
   "outputs": [
    {
     "name": "stdout",
     "output_type": "stream",
     "text": [
      "258792192\n",
      "proportion: 2.750e-05; 1 in 36360\n"
     ]
    }
   ],
   "source": [
    "### Small Three Dragons\n",
    "# honors index 5\n",
    "\n",
    "winning_hands = 0\n",
    "\n",
    "hon_part = dragon_complete_ways.loc[5]\n",
    "sou_ways = suited_complete_ways[suited_complete_ways['n_tiles'] <= 14-hon_part['n_tiles']]\n",
    "for sou_idx in suited_complete_ways.index:\n",
    "    sou_part = suited_complete_ways.loc[sou_idx]\n",
    "\n",
    "    pin_ways = suited_complete_ways[suited_complete_ways['n_tiles'] <= 14-hon_part['n_tiles']-sou_part['n_tiles']]\n",
    "    for pin_idx in pin_ways.index:\n",
    "        pin_part = pin_ways.loc[pin_idx]\n",
    "        \n",
    "        man_ways = suited_complete_ways[suited_complete_ways['n_tiles'] == 14-hon_part['n_tiles']-sou_part['n_tiles']-pin_part['n_tiles']] \n",
    "        for man_idx in man_ways.index:\n",
    "            man_part = man_ways.loc[man_idx]\n",
    "\n",
    "            hand = sou_part + pin_part + man_part + hon_part\n",
    "\n",
    "            if hand['n_pairs'] == 1: \n",
    "                winning_hands += sou_part['n_ways'] * pin_part['n_ways'] * man_part['n_ways'] * hon_part['n_ways']\n",
    "\n",
    "print(winning_hands)\n",
    "print(f\"proportion: {winning_hands/total_winning_hands:0.3e}; 1 in {total_winning_hands/winning_hands:.0f}\")"
   ]
  },
  {
   "cell_type": "code",
   "execution_count": 26,
   "metadata": {},
   "outputs": [
    {
     "name": "stdout",
     "output_type": "stream",
     "text": [
      "13722624\n",
      "proportion: 1.458e-06; 1 in 685707\n"
     ]
    }
   ],
   "source": [
    "### Large Three Dragons\n",
    "# honors index 6\n",
    "\n",
    "winning_hands = 0\n",
    "\n",
    "hon_part = dragon_complete_ways.loc[6]\n",
    "sou_ways = suited_complete_ways[suited_complete_ways['n_tiles'] <= 14-hon_part['n_tiles']]\n",
    "for sou_idx in suited_complete_ways.index:\n",
    "    sou_part = suited_complete_ways.loc[sou_idx]\n",
    "\n",
    "    pin_ways = suited_complete_ways[suited_complete_ways['n_tiles'] <= 14-hon_part['n_tiles']-sou_part['n_tiles']]\n",
    "    for pin_idx in pin_ways.index:\n",
    "        pin_part = pin_ways.loc[pin_idx]\n",
    "        \n",
    "        man_ways = suited_complete_ways[suited_complete_ways['n_tiles'] == 14-hon_part['n_tiles']-sou_part['n_tiles']-pin_part['n_tiles']] \n",
    "        for man_idx in man_ways.index:\n",
    "            man_part = man_ways.loc[man_idx]\n",
    "\n",
    "            hand = sou_part + pin_part + man_part + hon_part\n",
    "\n",
    "            if hand['n_pairs'] == 1: \n",
    "                winning_hands += sou_part['n_ways'] * pin_part['n_ways'] * man_part['n_ways'] * hon_part['n_ways']\n",
    "\n",
    "print(winning_hands)\n",
    "print(f\"proportion: {winning_hands/total_winning_hands:0.3e}; 1 in {total_winning_hands/winning_hands:.0f}\")"
   ]
  },
  {
   "attachments": {},
   "cell_type": "markdown",
   "metadata": {},
   "source": [
    "### Single Numeric Suit"
   ]
  },
  {
   "cell_type": "code",
   "execution_count": 27,
   "metadata": {},
   "outputs": [
    {
     "name": "stdout",
     "output_type": "stream",
     "text": [
      "5462454474\n",
      "proportion: 0.0005805; 1 in 1723\n"
     ]
    }
   ],
   "source": [
    "### Half Flush\n",
    "# calculate for single suit; multiply by 3 for all suits\n",
    "\n",
    "winning_hands = 0\n",
    "for hon_idx in range(1,7): # must have some number of honors, standard hands\n",
    "    sou_idx = 9-hon_idx\n",
    "    winning_hands += suited_complete_ways.loc[sou_idx, 'n_ways'] * dragon_complete_ways.loc[hon_idx,'n_ways']\n",
    "for hon_idx in range(1,4): # chiitoi hands\n",
    "    hon_part = dragon_pairs_ways.loc[man_idx]\n",
    "    \n",
    "    sou_ways = suited_pairs_ways[suited_pairs_ways['n_tiles'] == 14-hon_part['n_tiles']]\n",
    "    for sou_idx in sou_ways.index:\n",
    "        sou_part = sou_ways.loc[sou_idx]\n",
    "\n",
    "        winning_hands += sou_part['n_ways'] * man_part['n_ways']\n",
    "winning_hands *= 3\n",
    "\n",
    "print(winning_hands)\n",
    "print(f\"proportion: {winning_hands/total_winning_hands:0.7f}; 1 in {total_winning_hands/winning_hands:.0f}\")"
   ]
  },
  {
   "cell_type": "code",
   "execution_count": 28,
   "metadata": {},
   "outputs": [
    {
     "name": "stdout",
     "output_type": "stream",
     "text": [
      "1336897596\n",
      "proportion: 0.0001421; 1 in 7038\n"
     ]
    }
   ],
   "source": [
    "### Full Flush\n",
    "# calculate for a single suit; multiply by 3 for all suits\n",
    "winning_hands = suited_complete_ways.loc[9, 'n_ways'] + suited_pairs_ways.loc[12, 'n_ways']\n",
    "winning_hands *= 3\n",
    "\n",
    "print(winning_hands)\n",
    "print(f\"proportion: {winning_hands/total_winning_hands:0.7f}; 1 in {total_winning_hands/winning_hands:.0f}\")"
   ]
  },
  {
   "attachments": {},
   "cell_type": "markdown",
   "metadata": {},
   "source": [
    "### Other Set Patterns"
   ]
  },
  {
   "cell_type": "code",
   "execution_count": 29,
   "metadata": {},
   "outputs": [],
   "source": [
    "identical_sequences = [x+x for x in sequences[:-1]]\n",
    "\n",
    "valid_groups = assemble_from_groups(identical_sequences, sets, sets, pairs)\n",
    "iipeikou_complete = suited_complete.loc[valid_groups,:]\n",
    "iipeikou_complete_ways = iipeikou_complete.groupby(['n_tiles', 'n_sets', 'n_pairs']).sum(numeric_only=True)['n_ways'].reset_index()\n",
    "\n",
    "valid_groups = assemble_from_groups(identical_sequences, identical_sequences, pairs)\n",
    "ryanpeikou_complete = suited_complete.loc[valid_groups,:]\n",
    "ryanpeikou_complete_ways = ryanpeikou_complete.groupby(['n_tiles', 'n_sets', 'n_pairs']).sum(numeric_only=True)['n_ways'].reset_index()"
   ]
  },
  {
   "cell_type": "code",
   "execution_count": 30,
   "metadata": {},
   "outputs": [
    {
     "name": "stdout",
     "output_type": "stream",
     "text": [
      "1119645018\n",
      "proportion: 0.0001190; 1 in 8404\n"
     ]
    }
   ],
   "source": [
    "### Twice Two Identical Sequences\n",
    "# calculate for a single suit; multiply by 3 for all suits\n",
    "\n",
    "# case 1: iipeikou in two different suits\n",
    "ryanpeikou_hands  = iipeikou_complete_ways.loc[0, 'n_ways'] * iipeikou_complete_ways.loc[0, 'n_ways'] * (12 * 6)\n",
    "ryanpeikou_hands += iipeikou_complete_ways.loc[1, 'n_ways'] * 2 * iipeikou_complete_ways.loc[0, 'n_ways']\n",
    "\n",
    "# case 2: ryanpeikou in a single suit\n",
    "ryanpeikou_hands += ryanpeikou_complete_ways.loc[0, 'n_ways'] * (21 * 6)\n",
    "ryanpeikou_hands += ryanpeikou_complete_ways.loc[1, 'n_ways']\n",
    "\n",
    "# all numeric suits\n",
    "ryanpeikou_hands *= 3 \n",
    "\n",
    "print(ryanpeikou_hands)\n",
    "print(f\"proportion: {ryanpeikou_hands/total_winning_hands:0.7f}; 1 in {total_winning_hands/ryanpeikou_hands:.0f}\")"
   ]
  },
  {
   "cell_type": "code",
   "execution_count": 31,
   "metadata": {},
   "outputs": [
    {
     "name": "stdout",
     "output_type": "stream",
     "text": [
      "356952436224\n",
      "proportion: 0.0379345; 1 in 26.4\n"
     ]
    }
   ],
   "source": [
    "### Two Identical Sequences\n",
    "# calculate for a single suit; multiply by 3 for all suits\n",
    "\n",
    "winning_hands = 0\n",
    "for sou_idx in iipeikou_complete_ways.index:\n",
    "    sou_part = iipeikou_complete_ways.loc[sou_idx]\n",
    "\n",
    "    pin_ways = suited_complete_ways[suited_complete_ways['n_tiles'] <= 14-sou_part['n_tiles']]\n",
    "    for pin_idx in pin_ways.index:\n",
    "        pin_part = pin_ways.loc[pin_idx]\n",
    "\n",
    "        man_ways = suited_complete_ways[suited_complete_ways['n_tiles'] <= 14-sou_part['n_tiles']-pin_part['n_tiles']]\n",
    "        for man_idx in man_ways.index:\n",
    "            man_part = man_ways.loc[man_idx]\n",
    "\n",
    "            hon_ways = dragon_complete_ways[dragon_complete_ways['n_tiles'] == 14-sou_part['n_tiles']-pin_part['n_tiles']-man_part['n_tiles']]\n",
    "            for hon_idx in hon_ways.index:\n",
    "                hon_part = hon_ways.loc[hon_idx]\n",
    "                hand = sou_part + pin_part + man_part + hon_part\n",
    "\n",
    "                if hand['n_pairs'] == 1:\n",
    "                    winning_hands += sou_part['n_ways'] * pin_part['n_ways'] * man_part['n_ways'] * hon_part['n_ways']\n",
    "\n",
    "winning_hands *= 3 # iipeikou in a different numeric suit\n",
    "winning_hands -= ryanpeikou_hands # exclude \"Twice Two Identical Sequences\" hands\n",
    "\n",
    "print(winning_hands)\n",
    "print(f\"proportion: {winning_hands/total_winning_hands:0.7f}; 1 in {total_winning_hands/winning_hands:.1f}\")"
   ]
  },
  {
   "cell_type": "code",
   "execution_count": 32,
   "metadata": {},
   "outputs": [
    {
     "name": "stdout",
     "output_type": "stream",
     "text": [
      "95777832960\n",
      "proportion: 0.0101786; 1 in 98.2\n"
     ]
    }
   ],
   "source": [
    "### Full Straight\n",
    "# calculate for a single suit; multiply by 3 for all suits\n",
    "\n",
    "valid_groups = assemble_from_groups([int_to_vector(123456789)], sets, pairs)\n",
    "ittsu_complete = suited_complete.loc[valid_groups,:]\n",
    "ittsu_complete_ways = ittsu_complete.groupby(['n_tiles', 'n_sets', 'n_pairs']).sum(numeric_only=True)['n_ways'].reset_index()\n",
    "\n",
    "winning_hands = 0\n",
    "for sou_idx in ittsu_complete_ways.index:\n",
    "    sou_part = ittsu_complete_ways.loc[sou_idx]\n",
    "\n",
    "    pin_ways = suited_complete_ways[suited_complete_ways['n_tiles'] <= 14-sou_part['n_tiles']]\n",
    "    for pin_idx in pin_ways.index:\n",
    "        pin_part = pin_ways.loc[pin_idx]\n",
    "\n",
    "        man_ways = suited_complete_ways[suited_complete_ways['n_tiles'] <= 14-sou_part['n_tiles']-pin_part['n_tiles']]\n",
    "        for man_idx in man_ways.index:\n",
    "            man_part = man_ways.loc[man_idx]\n",
    "\n",
    "            hon_ways = dragon_complete_ways[dragon_complete_ways['n_tiles'] == 14-sou_part['n_tiles']-pin_part['n_tiles']-man_part['n_tiles']]\n",
    "            for hon_idx in hon_ways.index:\n",
    "                hon_part = hon_ways.loc[hon_idx]\n",
    "                hand = sou_part + pin_part + man_part + hon_part\n",
    "\n",
    "                if hand['n_pairs'] == 1:\n",
    "                    winning_hands += sou_part['n_ways'] * pin_part['n_ways'] * man_part['n_ways'] * hon_part['n_ways']\n",
    "\n",
    "winning_hands *= 3 # iipeikou in a different numeric suit\n",
    "\n",
    "print(winning_hands)\n",
    "print(f\"proportion: {winning_hands/total_winning_hands:0.7f}; 1 in {total_winning_hands/winning_hands:.1f}\")"
   ]
  },
  {
   "cell_type": "code",
   "execution_count": 33,
   "metadata": {},
   "outputs": [
    {
     "name": "stdout",
     "output_type": "stream",
     "text": [
      "178559238144\n",
      "proportion: 0.0189761; 1 in 52.7\n"
     ]
    }
   ],
   "source": [
    "### Three Similar Sequences\n",
    "# calculate for a single suit; multiply by 3 for all suits\n",
    "\n",
    "winning_hands = 0\n",
    "for sequence in sequences[:-1]: # different sequences have different allowances\n",
    "    valid_groups = assemble_from_groups([sequence], sets, pairs)\n",
    "    doujun_single = suited_complete.loc[valid_groups,:]\n",
    "    doujun_single_ways = doujun_single.groupby(['n_tiles', 'n_sets', 'n_pairs']).sum(numeric_only=True)['n_ways'].reset_index()\n",
    "\n",
    "    # remaining set and pair are honors\n",
    "    winning_hands += doujun_single_ways.loc[0,'n_ways'] ** 3 * dragon_complete_ways.loc[3,'n_ways']\n",
    "\n",
    "    # one dragon triplet, one numeric pair\n",
    "    winning_hands += doujun_single_ways.loc[1,'n_ways'] * doujun_single_ways.loc[0,'n_ways'] ** 2 * dragon_complete_ways.loc[2,'n_ways']\n",
    "\n",
    "    # one dragon pair, one additional numeric set\n",
    "    winning_hands += doujun_single_ways.loc[2,'n_ways'] * doujun_single_ways.loc[0,'n_ways'] ** 2 * dragon_complete_ways.loc[1,'n_ways']\n",
    "\n",
    "    # remaining set and pair are in different numeric suits\n",
    "    winning_hands += 2 * doujun_single_ways.loc[2,'n_ways'] * doujun_single_ways.loc[1,'n_ways'] * doujun_single_ways.loc[0,'n_ways']\n",
    "\n",
    "    # remaining set and pair are in a single numeric suit\n",
    "    winning_hands += doujun_single_ways.loc[3,'n_ways'] * doujun_single_ways.loc[0,'n_ways'] ** 2\n",
    "\n",
    "winning_hands *= 3 # rotate the focus numeric suit\n",
    "\n",
    "print(winning_hands)\n",
    "print(f\"proportion: {winning_hands/total_winning_hands:0.7f}; 1 in {total_winning_hands/winning_hands:.1f}\")"
   ]
  },
  {
   "cell_type": "code",
   "execution_count": 34,
   "metadata": {},
   "outputs": [
    {
     "name": "stdout",
     "output_type": "stream",
     "text": [
      "88187904\n",
      "proportion: 9.372e-06; 1 in 106701\n"
     ]
    }
   ],
   "source": [
    "### Three Similar Triplets\n",
    "# calculate for a single suit; multiply by 3 for all suits\n",
    "\n",
    "winning_hands = 0\n",
    "for triplet in triplets[:-1]: # different triplets have different allowances\n",
    "    valid_groups = assemble_from_groups([triplet], sets, pairs)\n",
    "    doukou_single = suited_complete.loc[valid_groups,:]\n",
    "    doukou_single_ways = doukou_single.groupby(['n_tiles', 'n_sets', 'n_pairs']).sum(numeric_only=True)['n_ways'].reset_index()\n",
    "\n",
    "    # remaining set and pair are honors\n",
    "    winning_hands += doukou_single_ways.loc[0,'n_ways'] ** 3 * dragon_complete_ways.loc[3,'n_ways']\n",
    "\n",
    "    # one dragon triplet, one numeric pair\n",
    "    winning_hands += doukou_single_ways.loc[1,'n_ways'] * doukou_single_ways.loc[0,'n_ways'] ** 2 * dragon_complete_ways.loc[2,'n_ways']\n",
    "\n",
    "    # one dragon pair, one additional numeric set\n",
    "    winning_hands += doukou_single_ways.loc[2,'n_ways'] * doukou_single_ways.loc[0,'n_ways'] ** 2 * dragon_complete_ways.loc[1,'n_ways']\n",
    "\n",
    "    # remaining set and pair are in different numeric suits\n",
    "    winning_hands += 2 * doukou_single_ways.loc[2,'n_ways'] * doukou_single_ways.loc[1,'n_ways'] * doukou_single_ways.loc[0,'n_ways']\n",
    "\n",
    "    # remaining set and pair are in a single numeric suit\n",
    "    winning_hands += doukou_single_ways.loc[3,'n_ways'] * doukou_single_ways.loc[0,'n_ways'] ** 2\n",
    "\n",
    "winning_hands *= 3 # rotate the focus numeric suit\n",
    "\n",
    "print(winning_hands)\n",
    "print(f\"proportion: {winning_hands/total_winning_hands:0.3e}; 1 in {total_winning_hands/winning_hands:.0f}\")"
   ]
  },
  {
   "attachments": {},
   "cell_type": "markdown",
   "metadata": {},
   "source": [
    "## Shanten Calculations\n",
    "\n",
    "- What is the shanten distribution across all thirteen-tile hands, and what is the average shanten count?"
   ]
  },
  {
   "cell_type": "code",
   "execution_count": 75,
   "metadata": {},
   "outputs": [],
   "source": [
    "suited_df['lone_tiles'] = suited_df['tile_vector'].apply(lambda x: (string_to_vector(x) == 1).sum())\n",
    "suited_ways = suited_df.groupby(['n_tiles', 'n_sets', 'n_blocks', 'n_pairs', 'max_pairs', 'lone_tiles']).agg({'n_ways': sum}).reset_index()\n",
    "suited_ways = suited_ways[suited_ways['n_tiles'] <= 13]\n",
    "\n",
    "dragon_df['lone_tiles'] = dragon_df['tile_vector'].apply(lambda x: (string_to_vector(x) == 1).sum())\n",
    "dragon_ways = dragon_df.groupby(['n_tiles', 'n_triplets', 'n_pairs', 'lone_tiles']).agg({'n_ways': sum}).reset_index()\n",
    "dragon_ways = dragon_ways.rename(columns={'n_triplets':'n_sets'})\n",
    "dragon_ways['n_blocks']  = dragon_ways['n_pairs']\n",
    "dragon_ways['max_pairs'] = dragon_ways['n_pairs'] + dragon_ways['n_sets']"
   ]
  },
  {
   "cell_type": "code",
   "execution_count": 77,
   "metadata": {},
   "outputs": [],
   "source": [
    "shanten_ways = np.zeros(7,dtype=np.int64)\n",
    "shanten_matrix = np.zeros([9,7],dtype=np.int64)\n",
    "\n",
    "for sou_idx in suited_ways.index:\n",
    "    sou_part = suited_ways.loc[sou_idx]\n",
    "    \n",
    "    pin_ways = suited_ways[suited_ways['n_tiles'] <= 13-sou_part['n_tiles']]\n",
    "    for pin_idx in pin_ways.index:\n",
    "        pin_part = pin_ways.loc[pin_idx]\n",
    "\n",
    "        man_ways = suited_ways[suited_ways['n_tiles'] <= 13-sou_part['n_tiles']-pin_part['n_tiles']]\n",
    "        for man_idx in man_ways.index:\n",
    "            man_part = man_ways.loc[man_idx]\n",
    "\n",
    "            hon_ways = dragon_ways[dragon_ways['n_tiles'] == 13-sou_part['n_tiles']-pin_part['n_tiles']-man_part['n_tiles']]\n",
    "            for hon_idx in hon_ways.index:\n",
    "                hon_part = hon_ways.loc[hon_idx]\n",
    "                hand = sou_part + pin_part + man_part + hon_part\n",
    "\n",
    "                # calculate shanten\n",
    "                has_pair = min(hand['n_pairs'], 1)\n",
    "                standard_shanten = 8 - 2 * hand['n_sets'] - has_pair - min(hand['n_blocks']-has_pair, 4-hand['n_sets'])\n",
    "                chiitoi_base = 6 - hand['max_pairs']\n",
    "                chiitoi_shanten = chiitoi_base + max(1 + chiitoi_base - hand['lone_tiles'], 0)\n",
    "                \n",
    "                shanten = min(standard_shanten, chiitoi_shanten)\n",
    "                n_ways = sou_part['n_ways'] * pin_part['n_ways'] * man_part['n_ways'] * hon_part['n_ways']\n",
    "                shanten_ways[shanten] += n_ways\n",
    "                shanten_matrix[standard_shanten, chiitoi_shanten] += n_ways"
   ]
  },
  {
   "cell_type": "code",
   "execution_count": 78,
   "metadata": {},
   "outputs": [
    {
     "name": "stdout",
     "output_type": "stream",
     "text": [
      "hands by shanten (in trillions):\n",
      "[2.75102705e+01 1.66443081e+03 1.79558568e+04 4.27105356e+04\n",
      " 2.24796655e+04 2.70162410e+03 4.72100792e+01]\n",
      "\n",
      "tenpai chance: 0.0003141; 1 in 3184\n",
      "average shanten: 3.08\n",
      "\n",
      "probabilities and ratios\n",
      "[3.14091394e-04 1.90032080e-02 2.05006348e-01 4.87636487e-01\n",
      " 2.56655763e-01 3.08450940e-02 5.39008860e-04]\n",
      "[3.18378670e+03 5.26226939e+01 4.87789773e+00 2.05070791e+00\n",
      " 3.89626942e+00 3.24200666e+01 1.85525707e+03]\n"
     ]
    }
   ],
   "source": [
    "print(f'hands by shanten (in trillions):')\n",
    "print(shanten_ways / 1e12)\n",
    "print('')\n",
    "print(f'tenpai chance: {shanten_ways[0] / shanten_ways.sum():0.7f}; 1 in {shanten_ways.sum() / shanten_ways[0]:0.0f}')\n",
    "print(f'average shanten: {(shanten_ways * np.arange(7)).sum() / shanten_ways.sum():0.2f}')\n",
    "print('')\n",
    "print('probabilities and ratios')\n",
    "print(shanten_ways / shanten_ways.sum())\n",
    "print(shanten_ways.sum() / shanten_ways)"
   ]
  },
  {
   "cell_type": "code",
   "execution_count": 79,
   "metadata": {},
   "outputs": [
    {
     "name": "stdout",
     "output_type": "stream",
     "text": [
      "standard vs chiitoi shanten matrix (in billions)\n",
      "[[       5      132      906     3439     8482    10042     1851]\n",
      " [     243     5626    56470   251450   554370   518479   102835]\n",
      " [     167    50738   641209  2996508  6049357  5052897  1139334]\n",
      " [    2244   124462  1611190  7531126 15035622 12507096  3396173]\n",
      " [       0        0   465362  3763008  9215002  8479164  2799441]\n",
      " [       0        0        0   477510  1890822  1992739   550102]\n",
      " [       0        0        0        0    95236   156095    46304]\n",
      " [       0        0        0        0        0     2688      906]\n",
      " [       0        0        0        0        0        0        0]]\n"
     ]
    }
   ],
   "source": [
    "print(f'standard vs chiitoi shanten matrix (in billions)')\n",
    "print(np.round(shanten_matrix / 1e9, 0).astype(np.int64))"
   ]
  },
  {
   "attachments": {},
   "cell_type": "markdown",
   "metadata": {},
   "source": [
    "#### Chiitoi Shanten Notes\n",
    "\n",
    "Sometimes, shanten with respect to chiitoitsu is not as simple as taking 6 minus the number of pairs."
   ]
  },
  {
   "cell_type": "code",
   "execution_count": 80,
   "metadata": {},
   "outputs": [
    {
     "data": {
      "text/plain": [
       "array([    2659503974400,   180957082924800,  2775136990953600,\n",
       "       15023042076107520, 32848890769356480, 28719199355041440,\n",
       "        8036947486748880], dtype=int64)"
      ]
     },
     "execution_count": 80,
     "metadata": {},
     "output_type": "execute_result"
    }
   ],
   "source": [
    "shanten_matrix.sum(axis=0)"
   ]
  },
  {
   "cell_type": "code",
   "execution_count": 54,
   "metadata": {},
   "outputs": [
    {
     "data": {
      "text/plain": [
       "2659503974400"
      ]
     },
     "execution_count": 54,
     "metadata": {},
     "output_type": "execute_result"
    }
   ],
   "source": [
    "# For shanten 0, we require six pairs and a unique seventh tile.\n",
    "# If the last tile matches one of the six pairs, it is counted as shanten 1!\n",
    "\n",
    "math.comb(30,6) * 24 * 6 ** 6 * 4"
   ]
  },
  {
   "cell_type": "code",
   "execution_count": 56,
   "metadata": {},
   "outputs": [
    {
     "data": {
      "text/plain": [
       "8036947486310400"
      ]
     },
     "execution_count": 56,
     "metadata": {},
     "output_type": "execute_result"
    }
   ],
   "source": [
    "# On the other end, you might expect shanten 6 to simply be thirteen\n",
    "# unique tiles.\n",
    "\n",
    "math.comb(30,13) * 4 ** 13"
   ]
  },
  {
   "cell_type": "code",
   "execution_count": 82,
   "metadata": {},
   "outputs": [
    {
     "data": {
      "text/plain": [
       "438480"
      ]
     },
     "execution_count": 82,
     "metadata": {},
     "output_type": "execute_result"
    }
   ],
   "source": [
    "# However, there are additional edge cases where there aren't enough unique, unpaired tiles\n",
    "# from which to form additional pairs! In these cases, additional shanten are gained due\n",
    "# to the need to replace tiles from triplets and quads with new tiles.\n",
    "# For example: \"AAAA BBBB CCCC D E\" has three pairs and two lone tiles, but is considered\n",
    "# 6-shanten with respect to chiitoi, since the excess \"AA BB CC\" must be shed first. (Its\n",
    "# overall shanten will be much lower as a standard hand.)\n",
    "\n",
    "8036947486748880 - 8036947486310400"
   ]
  },
  {
   "cell_type": "code",
   "execution_count": null,
   "metadata": {},
   "outputs": [],
   "source": []
  }
 ],
 "metadata": {
  "kernelspec": {
   "display_name": "base",
   "language": "python",
   "name": "python3"
  },
  "language_info": {
   "codemirror_mode": {
    "name": "ipython",
    "version": 3
   },
   "file_extension": ".py",
   "mimetype": "text/x-python",
   "name": "python",
   "nbconvert_exporter": "python",
   "pygments_lexer": "ipython3",
   "version": "3.9.16"
  },
  "orig_nbformat": 4
 },
 "nbformat": 4,
 "nbformat_minor": 2
}
