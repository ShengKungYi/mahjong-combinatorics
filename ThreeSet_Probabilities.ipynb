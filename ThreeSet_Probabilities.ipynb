{
 "cells": [
  {
   "attachments": {},
   "cell_type": "markdown",
   "metadata": {},
   "source": [
    "## Three Set Mahjong Probability Calculations\n",
    "\n",
    "This notebook tabulates hand probabilities for a teaching Mahjong variant with a limited number of types and hand size:\n",
    "- **Tiles**: 84 tiles covering the bamboo (1-9 numeric), circles (1-9 numeric), and dragons (white, green, red); four copies of each tile.\n",
    "- **Hand Size**: Players seek to complete a hand with 11 tiles, consisting of 3 sets of three (sequence or triplet; no quads) and 1 pair.\n",
    "- **Calls**: As a side note, calls for sequences (_chii_) and triplets (_pon_) are allowed.\n",
    "\n",
    "In traditional Mahjong, patterns of tiles in a completed hand are given point values based generally on their elegance and rarity: how do the rarities of those patterns change when we limit the types of tiles and the number of tiles in hand?"
   ]
  },
  {
   "cell_type": "code",
   "execution_count": 44,
   "metadata": {},
   "outputs": [],
   "source": [
    "import math\n",
    "import numpy as np\n",
    "import pandas as pd\n",
    "\n",
    "from itertools import product"
   ]
  },
  {
   "cell_type": "code",
   "execution_count": 45,
   "metadata": {},
   "outputs": [
    {
     "name": "stdout",
     "output_type": "stream",
     "text": [
      "(123275, 11)\n"
     ]
    },
    {
     "data": {
      "text/html": [
       "<div>\n",
       "<style scoped>\n",
       "    .dataframe tbody tr th:only-of-type {\n",
       "        vertical-align: middle;\n",
       "    }\n",
       "\n",
       "    .dataframe tbody tr th {\n",
       "        vertical-align: top;\n",
       "    }\n",
       "\n",
       "    .dataframe thead th {\n",
       "        text-align: right;\n",
       "    }\n",
       "</style>\n",
       "<table border=\"1\" class=\"dataframe\">\n",
       "  <thead>\n",
       "    <tr style=\"text-align: right;\">\n",
       "      <th></th>\n",
       "      <th>tile_vector</th>\n",
       "      <th>n_tiles</th>\n",
       "      <th>n_sets</th>\n",
       "      <th>n_triplets</th>\n",
       "      <th>n_sequences</th>\n",
       "      <th>n_blocks</th>\n",
       "      <th>n_pairs</th>\n",
       "      <th>max_pairs</th>\n",
       "      <th>n_koritsu</th>\n",
       "      <th>n_terminals</th>\n",
       "      <th>n_ways</th>\n",
       "    </tr>\n",
       "    <tr>\n",
       "      <th>tile_int</th>\n",
       "      <th></th>\n",
       "      <th></th>\n",
       "      <th></th>\n",
       "      <th></th>\n",
       "      <th></th>\n",
       "      <th></th>\n",
       "      <th></th>\n",
       "      <th></th>\n",
       "      <th></th>\n",
       "      <th></th>\n",
       "      <th></th>\n",
       "    </tr>\n",
       "  </thead>\n",
       "  <tbody>\n",
       "    <tr>\n",
       "      <th>556788999</th>\n",
       "      <td>000021123</td>\n",
       "      <td>9</td>\n",
       "      <td>2</td>\n",
       "      <td>1</td>\n",
       "      <td>1</td>\n",
       "      <td>1</td>\n",
       "      <td>1</td>\n",
       "      <td>2</td>\n",
       "      <td>1</td>\n",
       "      <td>1</td>\n",
       "      <td>2304</td>\n",
       "    </tr>\n",
       "    <tr>\n",
       "      <th>15555889</th>\n",
       "      <td>100040021</td>\n",
       "      <td>8</td>\n",
       "      <td>1</td>\n",
       "      <td>1</td>\n",
       "      <td>0</td>\n",
       "      <td>1</td>\n",
       "      <td>1</td>\n",
       "      <td>1</td>\n",
       "      <td>2</td>\n",
       "      <td>2</td>\n",
       "      <td>96</td>\n",
       "    </tr>\n",
       "    <tr>\n",
       "      <th>22334467888</th>\n",
       "      <td>022201130</td>\n",
       "      <td>11</td>\n",
       "      <td>3</td>\n",
       "      <td>1</td>\n",
       "      <td>3</td>\n",
       "      <td>1</td>\n",
       "      <td>1</td>\n",
       "      <td>3</td>\n",
       "      <td>0</td>\n",
       "      <td>0</td>\n",
       "      <td>13824</td>\n",
       "    </tr>\n",
       "    <tr>\n",
       "      <th>2235788</th>\n",
       "      <td>021010120</td>\n",
       "      <td>7</td>\n",
       "      <td>0</td>\n",
       "      <td>0</td>\n",
       "      <td>0</td>\n",
       "      <td>3</td>\n",
       "      <td>2</td>\n",
       "      <td>2</td>\n",
       "      <td>0</td>\n",
       "      <td>0</td>\n",
       "      <td>2304</td>\n",
       "    </tr>\n",
       "    <tr>\n",
       "      <th>123555799</th>\n",
       "      <td>111030102</td>\n",
       "      <td>9</td>\n",
       "      <td>2</td>\n",
       "      <td>1</td>\n",
       "      <td>1</td>\n",
       "      <td>1</td>\n",
       "      <td>1</td>\n",
       "      <td>1</td>\n",
       "      <td>0</td>\n",
       "      <td>2</td>\n",
       "      <td>6144</td>\n",
       "    </tr>\n",
       "    <tr>\n",
       "      <th>12234677788</th>\n",
       "      <td>121101320</td>\n",
       "      <td>11</td>\n",
       "      <td>2</td>\n",
       "      <td>1</td>\n",
       "      <td>2</td>\n",
       "      <td>2</td>\n",
       "      <td>1</td>\n",
       "      <td>2</td>\n",
       "      <td>0</td>\n",
       "      <td>1</td>\n",
       "      <td>36864</td>\n",
       "    </tr>\n",
       "    <tr>\n",
       "      <th>3557777889</th>\n",
       "      <td>001020421</td>\n",
       "      <td>10</td>\n",
       "      <td>2</td>\n",
       "      <td>1</td>\n",
       "      <td>1</td>\n",
       "      <td>1</td>\n",
       "      <td>1</td>\n",
       "      <td>2</td>\n",
       "      <td>1</td>\n",
       "      <td>1</td>\n",
       "      <td>576</td>\n",
       "    </tr>\n",
       "    <tr>\n",
       "      <th>11223333478</th>\n",
       "      <td>224100110</td>\n",
       "      <td>11</td>\n",
       "      <td>2</td>\n",
       "      <td>1</td>\n",
       "      <td>2</td>\n",
       "      <td>2</td>\n",
       "      <td>1</td>\n",
       "      <td>2</td>\n",
       "      <td>0</td>\n",
       "      <td>1</td>\n",
       "      <td>2304</td>\n",
       "    </tr>\n",
       "    <tr>\n",
       "      <th>123344555</th>\n",
       "      <td>112230000</td>\n",
       "      <td>9</td>\n",
       "      <td>2</td>\n",
       "      <td>1</td>\n",
       "      <td>2</td>\n",
       "      <td>1</td>\n",
       "      <td>1</td>\n",
       "      <td>2</td>\n",
       "      <td>0</td>\n",
       "      <td>1</td>\n",
       "      <td>2304</td>\n",
       "    </tr>\n",
       "    <tr>\n",
       "      <th>1133334799</th>\n",
       "      <td>204100102</td>\n",
       "      <td>10</td>\n",
       "      <td>1</td>\n",
       "      <td>1</td>\n",
       "      <td>0</td>\n",
       "      <td>3</td>\n",
       "      <td>2</td>\n",
       "      <td>2</td>\n",
       "      <td>0</td>\n",
       "      <td>2</td>\n",
       "      <td>576</td>\n",
       "    </tr>\n",
       "  </tbody>\n",
       "</table>\n",
       "</div>"
      ],
      "text/plain": [
       "            tile_vector  n_tiles  n_sets  n_triplets  n_sequences  n_blocks  \\\n",
       "tile_int                                                                      \n",
       "556788999     000021123        9       2           1            1         1   \n",
       "15555889      100040021        8       1           1            0         1   \n",
       "22334467888   022201130       11       3           1            3         1   \n",
       "2235788       021010120        7       0           0            0         3   \n",
       "123555799     111030102        9       2           1            1         1   \n",
       "12234677788   121101320       11       2           1            2         2   \n",
       "3557777889    001020421       10       2           1            1         1   \n",
       "11223333478   224100110       11       2           1            2         2   \n",
       "123344555     112230000        9       2           1            2         1   \n",
       "1133334799    204100102       10       1           1            0         3   \n",
       "\n",
       "             n_pairs  max_pairs  n_koritsu  n_terminals  n_ways  \n",
       "tile_int                                                         \n",
       "556788999          1          2          1            1    2304  \n",
       "15555889           1          1          2            2      96  \n",
       "22334467888        1          3          0            0   13824  \n",
       "2235788            2          2          0            0    2304  \n",
       "123555799          1          1          0            2    6144  \n",
       "12234677788        1          2          0            1   36864  \n",
       "3557777889         1          2          1            1     576  \n",
       "11223333478        1          2          0            1    2304  \n",
       "123344555          1          2          0            1    2304  \n",
       "1133334799         2          2          0            2     576  "
      ]
     },
     "execution_count": 45,
     "metadata": {},
     "output_type": "execute_result"
    }
   ],
   "source": [
    "# load pre-computed tile combination properties for numeric tiles\n",
    "suited_df = pd.read_csv('./shanten_suuhai.csv', \n",
    "                        index_col='tile_int', \n",
    "                        dtype={'tile_vector': str})\n",
    "\n",
    "# trim to only combinations with eleven or fewer tiles\n",
    "suited_df = suited_df[suited_df['n_tiles'] <= 11]\n",
    "\n",
    "print(suited_df.shape)\n",
    "suited_df.sample(10)"
   ]
  },
  {
   "cell_type": "code",
   "execution_count": 46,
   "metadata": {},
   "outputs": [
    {
     "name": "stdout",
     "output_type": "stream",
     "text": [
      "(124, 7)\n"
     ]
    },
    {
     "data": {
      "text/html": [
       "<div>\n",
       "<style scoped>\n",
       "    .dataframe tbody tr th:only-of-type {\n",
       "        vertical-align: middle;\n",
       "    }\n",
       "\n",
       "    .dataframe tbody tr th {\n",
       "        vertical-align: top;\n",
       "    }\n",
       "\n",
       "    .dataframe thead th {\n",
       "        text-align: right;\n",
       "    }\n",
       "</style>\n",
       "<table border=\"1\" class=\"dataframe\">\n",
       "  <thead>\n",
       "    <tr style=\"text-align: right;\">\n",
       "      <th></th>\n",
       "      <th>tile_vector</th>\n",
       "      <th>n_tiles</th>\n",
       "      <th>n_triplets</th>\n",
       "      <th>n_pairs</th>\n",
       "      <th>n_koritsu</th>\n",
       "      <th>n_terminals</th>\n",
       "      <th>n_ways</th>\n",
       "    </tr>\n",
       "    <tr>\n",
       "      <th>tile_int</th>\n",
       "      <th></th>\n",
       "      <th></th>\n",
       "      <th></th>\n",
       "      <th></th>\n",
       "      <th></th>\n",
       "      <th></th>\n",
       "      <th></th>\n",
       "    </tr>\n",
       "  </thead>\n",
       "  <tbody>\n",
       "    <tr>\n",
       "      <th>55566677</th>\n",
       "      <td>0000332</td>\n",
       "      <td>8</td>\n",
       "      <td>2</td>\n",
       "      <td>1</td>\n",
       "      <td>0</td>\n",
       "      <td>3</td>\n",
       "      <td>96</td>\n",
       "    </tr>\n",
       "    <tr>\n",
       "      <th>555577</th>\n",
       "      <td>0000402</td>\n",
       "      <td>6</td>\n",
       "      <td>1</td>\n",
       "      <td>1</td>\n",
       "      <td>1</td>\n",
       "      <td>2</td>\n",
       "      <td>6</td>\n",
       "    </tr>\n",
       "    <tr>\n",
       "      <th>55566667777</th>\n",
       "      <td>0000344</td>\n",
       "      <td>11</td>\n",
       "      <td>3</td>\n",
       "      <td>0</td>\n",
       "      <td>2</td>\n",
       "      <td>3</td>\n",
       "      <td>4</td>\n",
       "    </tr>\n",
       "    <tr>\n",
       "      <th>566777</th>\n",
       "      <td>0000123</td>\n",
       "      <td>6</td>\n",
       "      <td>1</td>\n",
       "      <td>1</td>\n",
       "      <td>1</td>\n",
       "      <td>3</td>\n",
       "      <td>96</td>\n",
       "    </tr>\n",
       "    <tr>\n",
       "      <th>55556677</th>\n",
       "      <td>0000422</td>\n",
       "      <td>8</td>\n",
       "      <td>1</td>\n",
       "      <td>2</td>\n",
       "      <td>1</td>\n",
       "      <td>3</td>\n",
       "      <td>36</td>\n",
       "    </tr>\n",
       "    <tr>\n",
       "      <th>55567777</th>\n",
       "      <td>0000314</td>\n",
       "      <td>8</td>\n",
       "      <td>2</td>\n",
       "      <td>0</td>\n",
       "      <td>2</td>\n",
       "      <td>3</td>\n",
       "      <td>16</td>\n",
       "    </tr>\n",
       "    <tr>\n",
       "      <th>55556666</th>\n",
       "      <td>0000440</td>\n",
       "      <td>8</td>\n",
       "      <td>2</td>\n",
       "      <td>0</td>\n",
       "      <td>2</td>\n",
       "      <td>2</td>\n",
       "      <td>1</td>\n",
       "    </tr>\n",
       "    <tr>\n",
       "      <th>555566</th>\n",
       "      <td>0000420</td>\n",
       "      <td>6</td>\n",
       "      <td>1</td>\n",
       "      <td>1</td>\n",
       "      <td>1</td>\n",
       "      <td>2</td>\n",
       "      <td>6</td>\n",
       "    </tr>\n",
       "    <tr>\n",
       "      <th>555666777</th>\n",
       "      <td>0000333</td>\n",
       "      <td>9</td>\n",
       "      <td>3</td>\n",
       "      <td>0</td>\n",
       "      <td>0</td>\n",
       "      <td>3</td>\n",
       "      <td>64</td>\n",
       "    </tr>\n",
       "    <tr>\n",
       "      <th>567777</th>\n",
       "      <td>0000114</td>\n",
       "      <td>6</td>\n",
       "      <td>1</td>\n",
       "      <td>0</td>\n",
       "      <td>3</td>\n",
       "      <td>3</td>\n",
       "      <td>16</td>\n",
       "    </tr>\n",
       "  </tbody>\n",
       "</table>\n",
       "</div>"
      ],
      "text/plain": [
       "            tile_vector  n_tiles  n_triplets  n_pairs  n_koritsu  n_terminals  \\\n",
       "tile_int                                                                        \n",
       "55566677        0000332        8           2        1          0            3   \n",
       "555577          0000402        6           1        1          1            2   \n",
       "55566667777     0000344       11           3        0          2            3   \n",
       "566777          0000123        6           1        1          1            3   \n",
       "55556677        0000422        8           1        2          1            3   \n",
       "55567777        0000314        8           2        0          2            3   \n",
       "55556666        0000440        8           2        0          2            2   \n",
       "555566          0000420        6           1        1          1            2   \n",
       "555666777       0000333        9           3        0          0            3   \n",
       "567777          0000114        6           1        0          3            3   \n",
       "\n",
       "             n_ways  \n",
       "tile_int             \n",
       "55566677         96  \n",
       "555577            6  \n",
       "55566667777       4  \n",
       "566777           96  \n",
       "55556677         36  \n",
       "55567777         16  \n",
       "55556666          1  \n",
       "555566            6  \n",
       "555666777        64  \n",
       "567777           16  "
      ]
     },
     "execution_count": 46,
     "metadata": {},
     "output_type": "execute_result"
    }
   ],
   "source": [
    "# load pre-computed tile combination properties for honor tiles\n",
    "dragon_df = pd.read_csv('./shanten_jihai.csv', \n",
    "                        index_col='tile_int', \n",
    "                        dtype={'tile_vector': str})\n",
    "\n",
    "# trim to only combinations with eleven or fewer tiles that only contain dragons\n",
    "dragon_df = dragon_df[dragon_df['n_tiles'] <= 11]\n",
    "no_winds = dragon_df['tile_vector'].apply(lambda x: x[:4]) == '0000'\n",
    "dragon_df = dragon_df[no_winds]\n",
    "\n",
    "print(dragon_df.shape)\n",
    "dragon_df.sample(10)"
   ]
  },
  {
   "cell_type": "code",
   "execution_count": 47,
   "metadata": {},
   "outputs": [],
   "source": [
    "def vector_to_int(t_vector):\n",
    "    t_int = ''\n",
    "    for i, cnt in zip(np.arange(1,len(t_vector)+1),t_vector):\n",
    "        t_int += cnt * str(i)\n",
    "    if t_int:\n",
    "        return int(t_int)\n",
    "    else:\n",
    "        return 0\n",
    "\n",
    "def int_to_vector(t_int, n_types=9):\n",
    "    t_vector = np.zeros(n_types, dtype=int)\n",
    "    t_int = str(t_int)\n",
    "    for i in t_int:\n",
    "        t_vector[int(i)-1] += 1\n",
    "    return t_vector"
   ]
  },
  {
   "attachments": {},
   "cell_type": "markdown",
   "metadata": {},
   "source": [
    "## General Probabilities\n",
    "- How many possible hands are there?\n",
    "- How many of those hands form a winning combination? (Tenhou/Chiihou equivalent)"
   ]
  },
  {
   "cell_type": "code",
   "execution_count": 48,
   "metadata": {},
   "outputs": [
    {
     "name": "stdout",
     "output_type": "stream",
     "text": [
      "18574174153080\n"
     ]
    }
   ],
   "source": [
    "### How many possible hands are there, winning or otherwise?\n",
    "total_hands = math.comb(21*4,11)\n",
    "\n",
    "print(total_hands)"
   ]
  },
  {
   "cell_type": "code",
   "execution_count": 49,
   "metadata": {},
   "outputs": [
    {
     "data": {
      "text/html": [
       "<div>\n",
       "<style scoped>\n",
       "    .dataframe tbody tr th:only-of-type {\n",
       "        vertical-align: middle;\n",
       "    }\n",
       "\n",
       "    .dataframe tbody tr th {\n",
       "        vertical-align: top;\n",
       "    }\n",
       "\n",
       "    .dataframe thead th {\n",
       "        text-align: right;\n",
       "    }\n",
       "</style>\n",
       "<table border=\"1\" class=\"dataframe\">\n",
       "  <thead>\n",
       "    <tr style=\"text-align: right;\">\n",
       "      <th></th>\n",
       "      <th>n_tiles</th>\n",
       "      <th>n_sets</th>\n",
       "      <th>n_pairs</th>\n",
       "      <th>n_ways</th>\n",
       "    </tr>\n",
       "  </thead>\n",
       "  <tbody>\n",
       "    <tr>\n",
       "      <th>0</th>\n",
       "      <td>0</td>\n",
       "      <td>0</td>\n",
       "      <td>0</td>\n",
       "      <td>1</td>\n",
       "    </tr>\n",
       "    <tr>\n",
       "      <th>1</th>\n",
       "      <td>2</td>\n",
       "      <td>0</td>\n",
       "      <td>1</td>\n",
       "      <td>54</td>\n",
       "    </tr>\n",
       "    <tr>\n",
       "      <th>2</th>\n",
       "      <td>3</td>\n",
       "      <td>1</td>\n",
       "      <td>0</td>\n",
       "      <td>484</td>\n",
       "    </tr>\n",
       "    <tr>\n",
       "      <th>3</th>\n",
       "      <td>5</td>\n",
       "      <td>1</td>\n",
       "      <td>1</td>\n",
       "      <td>19200</td>\n",
       "    </tr>\n",
       "    <tr>\n",
       "      <th>4</th>\n",
       "      <td>6</td>\n",
       "      <td>2</td>\n",
       "      <td>0</td>\n",
       "      <td>65272</td>\n",
       "    </tr>\n",
       "    <tr>\n",
       "      <th>5</th>\n",
       "      <td>8</td>\n",
       "      <td>2</td>\n",
       "      <td>1</td>\n",
       "      <td>1748756</td>\n",
       "    </tr>\n",
       "    <tr>\n",
       "      <th>6</th>\n",
       "      <td>9</td>\n",
       "      <td>3</td>\n",
       "      <td>0</td>\n",
       "      <td>2742868</td>\n",
       "    </tr>\n",
       "    <tr>\n",
       "      <th>7</th>\n",
       "      <td>11</td>\n",
       "      <td>3</td>\n",
       "      <td>1</td>\n",
       "      <td>47037380</td>\n",
       "    </tr>\n",
       "  </tbody>\n",
       "</table>\n",
       "</div>"
      ],
      "text/plain": [
       "   n_tiles  n_sets  n_pairs    n_ways\n",
       "0        0       0        0         1\n",
       "1        2       0        1        54\n",
       "2        3       1        0       484\n",
       "3        5       1        1     19200\n",
       "4        6       2        0     65272\n",
       "5        8       2        1   1748756\n",
       "6        9       3        0   2742868\n",
       "7       11       3        1  47037380"
      ]
     },
     "execution_count": 49,
     "metadata": {},
     "output_type": "execute_result"
    }
   ],
   "source": [
    "### How many possible winning hands are there?\n",
    "suited_complete = suited_df.query('(3 * n_sets + 2 * n_pairs == n_tiles) & (n_pairs <= 1)')\n",
    "suited_complete_ways = suited_complete.groupby(['n_tiles', 'n_sets', 'n_pairs']).sum(numeric_only=True)['n_ways'].reset_index()\n",
    "suited_complete_ways"
   ]
  },
  {
   "cell_type": "code",
   "execution_count": 50,
   "metadata": {},
   "outputs": [
    {
     "data": {
      "text/html": [
       "<div>\n",
       "<style scoped>\n",
       "    .dataframe tbody tr th:only-of-type {\n",
       "        vertical-align: middle;\n",
       "    }\n",
       "\n",
       "    .dataframe tbody tr th {\n",
       "        vertical-align: top;\n",
       "    }\n",
       "\n",
       "    .dataframe thead th {\n",
       "        text-align: right;\n",
       "    }\n",
       "</style>\n",
       "<table border=\"1\" class=\"dataframe\">\n",
       "  <thead>\n",
       "    <tr style=\"text-align: right;\">\n",
       "      <th></th>\n",
       "      <th>n_tiles</th>\n",
       "      <th>n_triplets</th>\n",
       "      <th>n_pairs</th>\n",
       "      <th>n_ways</th>\n",
       "    </tr>\n",
       "  </thead>\n",
       "  <tbody>\n",
       "    <tr>\n",
       "      <th>0</th>\n",
       "      <td>0</td>\n",
       "      <td>0</td>\n",
       "      <td>0</td>\n",
       "      <td>1</td>\n",
       "    </tr>\n",
       "    <tr>\n",
       "      <th>1</th>\n",
       "      <td>2</td>\n",
       "      <td>0</td>\n",
       "      <td>1</td>\n",
       "      <td>18</td>\n",
       "    </tr>\n",
       "    <tr>\n",
       "      <th>2</th>\n",
       "      <td>3</td>\n",
       "      <td>1</td>\n",
       "      <td>0</td>\n",
       "      <td>12</td>\n",
       "    </tr>\n",
       "    <tr>\n",
       "      <th>3</th>\n",
       "      <td>5</td>\n",
       "      <td>1</td>\n",
       "      <td>1</td>\n",
       "      <td>144</td>\n",
       "    </tr>\n",
       "    <tr>\n",
       "      <th>4</th>\n",
       "      <td>6</td>\n",
       "      <td>2</td>\n",
       "      <td>0</td>\n",
       "      <td>48</td>\n",
       "    </tr>\n",
       "    <tr>\n",
       "      <th>5</th>\n",
       "      <td>8</td>\n",
       "      <td>2</td>\n",
       "      <td>1</td>\n",
       "      <td>288</td>\n",
       "    </tr>\n",
       "    <tr>\n",
       "      <th>6</th>\n",
       "      <td>9</td>\n",
       "      <td>3</td>\n",
       "      <td>0</td>\n",
       "      <td>64</td>\n",
       "    </tr>\n",
       "  </tbody>\n",
       "</table>\n",
       "</div>"
      ],
      "text/plain": [
       "   n_tiles  n_triplets  n_pairs  n_ways\n",
       "0        0           0        0       1\n",
       "1        2           0        1      18\n",
       "2        3           1        0      12\n",
       "3        5           1        1     144\n",
       "4        6           2        0      48\n",
       "5        8           2        1     288\n",
       "6        9           3        0      64"
      ]
     },
     "execution_count": 50,
     "metadata": {},
     "output_type": "execute_result"
    }
   ],
   "source": [
    "dragon_complete = dragon_df.query('(3 * n_triplets + 2 * n_pairs == n_tiles) & (n_pairs <= 1)')\n",
    "dragon_complete_ways = dragon_complete.groupby(['n_tiles', 'n_triplets', 'n_pairs']).sum(numeric_only=True)['n_ways'].reset_index()\n",
    "dragon_complete_ways"
   ]
  },
  {
   "cell_type": "code",
   "execution_count": 51,
   "metadata": {},
   "outputs": [
    {
     "name": "stdout",
     "output_type": "stream",
     "text": [
      "6232346696\n",
      "proportion: 0.0003355; 1 in 2980\n"
     ]
    }
   ],
   "source": [
    "total_winning_hands = 0\n",
    "for sou, pin, hon in product(range(8), range(8), range(7)):\n",
    "    total_tiles = suited_complete_ways.loc[sou,'n_tiles'] + suited_complete_ways.loc[pin,'n_tiles'] + dragon_complete_ways.loc[hon,'n_tiles']\n",
    "    if total_tiles == 11:\n",
    "        total_winning_hands += suited_complete_ways.loc[sou,'n_ways'] * suited_complete_ways.loc[pin,'n_ways'] * dragon_complete_ways.loc[hon,'n_ways']\n",
    "\n",
    "print(total_winning_hands)\n",
    "print(f\"proportion: {total_winning_hands/total_hands:0.7f}; 1 in {total_hands/total_winning_hands:.0f}\")"
   ]
  },
  {
   "attachments": {},
   "cell_type": "markdown",
   "metadata": {},
   "source": [
    "## Specific Hand Type Proportions\n",
    "- **Terminals and Honors**\n",
    "  - All Simples (_tanyao_): only numeric tiles from 2-8\n",
    "  - Included Terminals and Honors (_chanta_): each set and the pair includes a 1, 9, or dragon\n",
    "  - Included Terminals (_junchan_): each set and the pair includes a 1 or 9; no dragons\n",
    "  - All Terminals and Honors (_honroutou_): each set and the pair consists of only 1s, 9s, or dragons\n",
    "  - All Terminals (_chinroutou_): each set and the pair consists of only 1s or 9s\n",
    "- **Set Consistency**\n",
    "  - All Sequences (_pinfu_-like): three sequences and a pair\n",
    "  - All Triplets (_toitoi_; _sanankou_-like): three triplets and a pair\n",
    "- **Dragon Triplets**\n",
    "  - Dragon Triplet (_yakuhai_): triplet of dragons\n",
    "  - 2x Dragon Triplet: two triplets of dragons\n",
    "  - Small Three Dragons (_shousangen_): two triplets of dragons + pair of third\n",
    "  - Big Three Dragons (_daisangen_): three triplets of dragons\n",
    "- **Single Numeric Suit**\n",
    "  - Half Flush (_honitsu_): all tiles are of a single numeric suit (bamboo, circles) or dragons\n",
    "  - Full Flush (_chinitsu_): all tiles are of a single numeric suit; no dragons\n",
    "- **Other Set Patterns**\n",
    "  - Two Identical Sequences (_iipeikou_-like): two identical sequences, including same suit\n",
    "  - Full Straight (_ikkitsuukan_): sequences of 1-9 in a single suit"
   ]
  },
  {
   "cell_type": "code",
   "execution_count": 52,
   "metadata": {},
   "outputs": [],
   "source": [
    "# defining sets for assembling winning combinations\n",
    "sequences = [int_to_vector(123), int_to_vector(234), int_to_vector(345), int_to_vector(456),\n",
    "             int_to_vector(567), int_to_vector(678), int_to_vector(789), np.zeros(9,dtype=int)]\n",
    "triplets  = [int_to_vector(111), int_to_vector(222), int_to_vector(333), int_to_vector(444), int_to_vector(555),\n",
    "             int_to_vector(666), int_to_vector(777), int_to_vector(888), int_to_vector(999), np.zeros(9,dtype=int)]\n",
    "sets      = sequences[:-1] + triplets\n",
    "\n",
    "pairs = [int_to_vector(11), int_to_vector(22), int_to_vector(33), int_to_vector(44), int_to_vector(55),\n",
    "         int_to_vector(66), int_to_vector(77), int_to_vector(88), int_to_vector(99), np.zeros(9,dtype=int)]\n",
    "\n",
    "terminal_sequences = [int_to_vector(123), int_to_vector(789), np.zeros(9,dtype=int)]\n",
    "terminal_triplets  = [int_to_vector(111), int_to_vector(999), np.zeros(9,dtype=int)]\n",
    "terminal_sets      = terminal_sequences[:-1] + terminal_triplets\n",
    "terminal_pairs     = [int_to_vector(11),  int_to_vector(99),  np.zeros(9,dtype=int)]"
   ]
  },
  {
   "cell_type": "code",
   "execution_count": 53,
   "metadata": {},
   "outputs": [],
   "source": [
    "def assemble_from_groups(*args):\n",
    "    test_groups = product(*args)\n",
    "\n",
    "    valid_groups = []\n",
    "    for test_group in test_groups:\n",
    "        test_vector = np.array(test_group).sum(axis=0)\n",
    "        if (test_vector <= 4).sum() == test_vector.size:\n",
    "            valid_groups.append(vector_to_int(test_vector))\n",
    "    valid_groups = np.unique(np.array(valid_groups))\n",
    "    \n",
    "    return valid_groups"
   ]
  },
  {
   "attachments": {},
   "cell_type": "markdown",
   "metadata": {},
   "source": [
    "#### Terminals and Honors"
   ]
  },
  {
   "cell_type": "code",
   "execution_count": 54,
   "metadata": {},
   "outputs": [
    {
     "name": "stdout",
     "output_type": "stream",
     "text": [
      "835960840\n",
      "proportion: 0.1341326; 1 in 7.46\n"
     ]
    }
   ],
   "source": [
    "### All Simples\n",
    "simple_complete = suited_complete.query('n_terminals == 0')\n",
    "simple_complete_ways = simple_complete.groupby(['n_tiles', 'n_sets', 'n_pairs']).sum(numeric_only=True)['n_ways'].reset_index()\n",
    "\n",
    "winning_hands = 0\n",
    "for sou in range(8):\n",
    "    pin = 7-sou\n",
    "    winning_hands += simple_complete_ways.loc[sou, 'n_ways'] * simple_complete_ways.loc[pin, 'n_ways']\n",
    "\n",
    "print(winning_hands)\n",
    "print(f\"proportion: {winning_hands/total_winning_hands:0.7f}; 1 in {total_winning_hands/winning_hands:.2f}\")"
   ]
  },
  {
   "cell_type": "code",
   "execution_count": 87,
   "metadata": {},
   "outputs": [
    {
     "name": "stdout",
     "output_type": "stream",
     "text": [
      "35279040\n",
      "proportion: 0.0056606; 1 in 177\n"
     ]
    }
   ],
   "source": [
    "### Included Terminals and Honors\n",
    "valid_groups = assemble_from_groups(terminal_sets, terminal_sets, terminal_sets, terminal_pairs)\n",
    "\n",
    "terminal_complete = suited_complete.loc[valid_groups,:]\n",
    "terminal_complete_ways = terminal_complete.groupby(['n_tiles', 'n_sets', 'n_pairs']).sum(numeric_only=True)['n_ways'].reset_index()\n",
    "\n",
    "winning_hands = 0\n",
    "for sou, pin, hon in product(range(8), range(8), range(1,7)): # must include some number of honors\n",
    "    total_tiles = terminal_complete_ways.loc[sou,'n_tiles'] + terminal_complete_ways.loc[pin,'n_tiles'] + dragon_complete_ways.loc[hon,'n_tiles']\n",
    "    if total_tiles == 11:\n",
    "        winning_hands += terminal_complete_ways.loc[sou,'n_ways'] * terminal_complete_ways.loc[pin,'n_ways'] * dragon_complete_ways.loc[hon,'n_ways']\n",
    "\n",
    "winning_hands -= (math.comb(7, 3) * 4 - math.comb(4, 3)) * 4 ** 3 * 6 # exclude \"All Terminals and Honors\" hands\n",
    "\n",
    "print(winning_hands)\n",
    "print(f\"proportion: {winning_hands/total_winning_hands:0.7f}; 1 in {total_winning_hands/winning_hands:.0f}\")"
   ]
  },
  {
   "cell_type": "code",
   "execution_count": 85,
   "metadata": {},
   "outputs": [
    {
     "name": "stdout",
     "output_type": "stream",
     "text": [
      "13579968\n",
      "proportion: 0.0021789; 1 in 459\n"
     ]
    }
   ],
   "source": [
    "### Included Terminals\n",
    "winning_hands = 0\n",
    "for sou in range(8):\n",
    "    pin = 7-sou\n",
    "    winning_hands += terminal_complete_ways.loc[sou, 'n_ways'] * terminal_complete_ways.loc[pin, 'n_ways']\n",
    "winning_hands -= math.comb(4, 3) * 4 ** 3 * 6 # exclude \"All Terminals\" hands\n",
    "\n",
    "print(winning_hands)\n",
    "print(f\"proportion: {winning_hands/total_winning_hands:0.7f}; 1 in {total_winning_hands/winning_hands:.0f}\")\n"
   ]
  },
  {
   "cell_type": "code",
   "execution_count": 83,
   "metadata": {},
   "outputs": [
    {
     "name": "stdout",
     "output_type": "stream",
     "text": [
      "52224\n",
      "proportion: 8.380e-06; 1 in 119339\n"
     ]
    }
   ],
   "source": [
    "### All Terminals and Honors\n",
    "winning_hands  = math.comb(7, 3) * 4 # select three sets and pair\n",
    "winning_hands -= math.comb(4, 3) # exclude \"All Terminals\" hands\n",
    "winning_hands *= 4 ** 3 * 6 # selecting tiles within each group\n",
    "\n",
    "print(winning_hands)\n",
    "print(f\"proportion: {winning_hands/total_winning_hands:0.3e}; 1 in {total_winning_hands/winning_hands:.0f}\")"
   ]
  },
  {
   "cell_type": "code",
   "execution_count": 84,
   "metadata": {},
   "outputs": [
    {
     "name": "stdout",
     "output_type": "stream",
     "text": [
      "1536\n",
      "proportion: 2.465e-07; 1 in 4057517\n"
     ]
    }
   ],
   "source": [
    "### All Terminals\n",
    "winning_hands  = math.comb(4, 3) # select three sets (pair is set after selection)\n",
    "winning_hands *= 4 ** 3 * 6 # select tiles within each group\n",
    "\n",
    "print(winning_hands)\n",
    "print(f\"proportion: {winning_hands/total_winning_hands:0.3e}; 1 in {total_winning_hands/winning_hands:.0f}\")"
   ]
  },
  {
   "attachments": {},
   "cell_type": "markdown",
   "metadata": {},
   "source": [
    "### Set Consistency"
   ]
  },
  {
   "cell_type": "code",
   "execution_count": 58,
   "metadata": {},
   "outputs": [
    {
     "name": "stdout",
     "output_type": "stream",
     "text": [
      "4274787328\n",
      "proportion: 0.6859033; 1 in 1.46\n"
     ]
    }
   ],
   "source": [
    "### All Sequences\n",
    "valid_groups = assemble_from_groups(sequences, sequences, sequences, pairs)\n",
    "\n",
    "sequences_complete = suited_complete.loc[valid_groups,:]\n",
    "sequences_complete_ways = sequences_complete.groupby(['n_tiles', 'n_sets', 'n_pairs']).sum(numeric_only=True)['n_ways'].reset_index()\n",
    "\n",
    "winning_hands = 0\n",
    "for sou, pin, hon in product(range(8), range(8), range(2)):\n",
    "    total_tiles = sequences_complete_ways.loc[sou,'n_tiles'] + sequences_complete_ways.loc[pin,'n_tiles'] + dragon_complete_ways.loc[hon,'n_tiles']\n",
    "    if total_tiles == 11:\n",
    "        winning_hands += sequences_complete_ways.loc[sou,'n_ways'] * sequences_complete_ways.loc[pin,'n_ways'] * dragon_complete_ways.loc[hon,'n_ways']\n",
    "\n",
    "print(winning_hands)\n",
    "print(f\"proportion: {winning_hands/total_winning_hands:0.7f}; 1 in {total_winning_hands/winning_hands:.2f}\")"
   ]
  },
  {
   "cell_type": "code",
   "execution_count": 59,
   "metadata": {},
   "outputs": [
    {
     "name": "stdout",
     "output_type": "stream",
     "text": [
      "3344259328\n",
      "proportion: 0.5365971; 1 in 1.86\n"
     ]
    }
   ],
   "source": [
    "### All Sequences; no dragons\n",
    "winning_hands = 0\n",
    "for sou in range(8):\n",
    "    pin = 7-sou\n",
    "    winning_hands += sequences_complete_ways.loc[sou, 'n_ways'] * sequences_complete_ways.loc[pin, 'n_ways']\n",
    "\n",
    "print(winning_hands)\n",
    "print(f\"proportion: {winning_hands/total_winning_hands:0.7f}; 1 in {total_winning_hands/winning_hands:.2f}\")"
   ]
  },
  {
   "cell_type": "code",
   "execution_count": 60,
   "metadata": {},
   "outputs": [
    {
     "name": "stdout",
     "output_type": "stream",
     "text": [
      "9192960\n",
      "proportion: 0.0014750; 1 in 678\n"
     ]
    }
   ],
   "source": [
    "### All Triplets\n",
    "valid_groups = assemble_from_groups(triplets, triplets, triplets, pairs)\n",
    "\n",
    "triplets_complete = suited_complete.loc[valid_groups,:]\n",
    "triplets_complete_ways = triplets_complete.groupby(['n_tiles', 'n_sets', 'n_pairs']).sum(numeric_only=True)['n_ways'].reset_index()\n",
    "\n",
    "winning_hands = 0\n",
    "for sou, pin, hon in product(range(8), range(8), range(7)):\n",
    "    total_tiles = triplets_complete_ways.loc[sou,'n_tiles'] + triplets_complete_ways.loc[pin,'n_tiles'] + dragon_complete_ways.loc[hon,'n_tiles']\n",
    "    if total_tiles == 11:\n",
    "        winning_hands += triplets_complete_ways.loc[sou,'n_ways'] * triplets_complete_ways.loc[pin,'n_ways'] * dragon_complete_ways.loc[hon,'n_ways']\n",
    "\n",
    "# same result as math.comb(21,3) * 18 * 4 ** 3 * 6\n",
    "\n",
    "print(winning_hands)\n",
    "print(f\"proportion: {winning_hands/total_winning_hands:0.7f}; 1 in {total_winning_hands/winning_hands:.0f}\")"
   ]
  },
  {
   "attachments": {},
   "cell_type": "markdown",
   "metadata": {},
   "source": [
    "#### Dragon Triplets"
   ]
  },
  {
   "cell_type": "code",
   "execution_count": 61,
   "metadata": {},
   "outputs": [
    {
     "name": "stdout",
     "output_type": "stream",
     "text": [
      "402121056\n",
      "proportion: 0.0645216; 1 in 15.5\n"
     ]
    }
   ],
   "source": [
    "### One Dragon Triplet\n",
    "# honors index 2 (non-dragon pair) or 3 (dragon pair)\n",
    "winning_hands = 0\n",
    "for sou, pin, hon in product(range(6), range(6), range(2,4)):\n",
    "    total_tiles = suited_complete_ways.loc[sou,'n_tiles'] + suited_complete_ways.loc[pin,'n_tiles'] + dragon_complete_ways.loc[hon,'n_tiles']\n",
    "    if total_tiles == 11:\n",
    "        winning_hands += suited_complete_ways.loc[sou, 'n_ways'] * suited_complete_ways.loc[pin, 'n_ways'] * dragon_complete_ways.loc[hon,'n_ways']\n",
    "\n",
    "print(winning_hands)\n",
    "print(f\"proportion: {winning_hands/total_winning_hands:0.7f}; 1 in {total_winning_hands/winning_hands:.1f}\")"
   ]
  },
  {
   "cell_type": "code",
   "execution_count": 62,
   "metadata": {},
   "outputs": [
    {
     "name": "stdout",
     "output_type": "stream",
     "text": [
      "4352256\n",
      "proportion: 0.0006983; 1 in 1432\n"
     ]
    }
   ],
   "source": [
    "### Two Dragon Triplets\n",
    "# honors index 4\n",
    "\n",
    "winning_hands = 0\n",
    "for sou in range(4):\n",
    "    pin = 3-sou\n",
    "    winning_hands += suited_complete_ways.loc[sou, 'n_ways'] * suited_complete_ways.loc[pin, 'n_ways'] * dragon_complete_ways.loc[4,'n_ways']\n",
    "\n",
    "print(winning_hands)\n",
    "print(f\"proportion: {winning_hands/total_winning_hands:0.7f}; 1 in {total_winning_hands/winning_hands:.0f}\")"
   ]
  },
  {
   "cell_type": "code",
   "execution_count": 76,
   "metadata": {},
   "outputs": [
    {
     "name": "stdout",
     "output_type": "stream",
     "text": [
      "278784\n",
      "proportion: 4.473e-05; 1 in 22355\n"
     ]
    }
   ],
   "source": [
    "### Small Three Dragons\n",
    "# honors index 5; numeric index 2 (one set); multiply by 2 for both suits\n",
    "winning_hands = 2 * suited_complete_ways.loc[2, 'n_ways'] * dragon_complete_ways.loc[5,'n_ways']\n",
    "\n",
    "print(winning_hands)\n",
    "print(f\"proportion: {winning_hands/total_winning_hands:0.3e}; 1 in {total_winning_hands/winning_hands:.0f}\")"
   ]
  },
  {
   "cell_type": "code",
   "execution_count": 77,
   "metadata": {},
   "outputs": [
    {
     "name": "stdout",
     "output_type": "stream",
     "text": [
      "6912\n",
      "proportion: 1.109e-06; 1 in 901671\n"
     ]
    }
   ],
   "source": [
    "### Big Three Dragons\n",
    "# honors index 6; numeric index 1 (pair); multiply by 2 for both suits\n",
    "winning_hands = 2 * suited_complete_ways.loc[1, 'n_ways'] * dragon_complete_ways.loc[6,'n_ways']\n",
    "\n",
    "print(winning_hands)\n",
    "print(f\"proportion: {winning_hands/total_winning_hands:0.3e}; 1 in {total_winning_hands/winning_hands:.0f}\")"
   ]
  },
  {
   "attachments": {},
   "cell_type": "markdown",
   "metadata": {},
   "source": [
    "#### Single Numeric Suit"
   ]
  },
  {
   "cell_type": "code",
   "execution_count": 80,
   "metadata": {},
   "outputs": [
    {
     "name": "stdout",
     "output_type": "stream",
     "text": [
      "161640624\n",
      "proportion: 0.0259358; 1 in 38.6\n"
     ]
    }
   ],
   "source": [
    "### Half Flush\n",
    "# calculate for single suit; multiply by 2 for both suits\n",
    "\n",
    "winning_hands = 0\n",
    "for hon in range(1,7): # must have some number of honors\n",
    "    sou = 7-hon\n",
    "    winning_hands += suited_complete_ways.loc[sou, 'n_ways'] * dragon_complete_ways.loc[hon,'n_ways']\n",
    "winning_hands *= 2\n",
    "\n",
    "print(winning_hands)\n",
    "print(f\"proportion: {winning_hands/total_winning_hands:0.7f}; 1 in {total_winning_hands/winning_hands:.1f}\")"
   ]
  },
  {
   "cell_type": "code",
   "execution_count": 66,
   "metadata": {},
   "outputs": [
    {
     "name": "stdout",
     "output_type": "stream",
     "text": [
      "94074760\n",
      "proportion: 0.0150946; 1 in 66.2\n"
     ]
    }
   ],
   "source": [
    "### Full Flush\n",
    "# calculate for a single suit; multiply by 2 for both suits\n",
    "winning_hands = 2 * suited_complete_ways.loc[7, 'n_ways']\n",
    "\n",
    "print(winning_hands)\n",
    "print(f\"proportion: {winning_hands/total_winning_hands:0.7f}; 1 in {total_winning_hands/winning_hands:.1f}\")"
   ]
  },
  {
   "attachments": {},
   "cell_type": "markdown",
   "metadata": {},
   "source": [
    "#### Other Set Patterns"
   ]
  },
  {
   "cell_type": "code",
   "execution_count": 67,
   "metadata": {},
   "outputs": [
    {
     "name": "stdout",
     "output_type": "stream",
     "text": [
      "195974976\n",
      "proportion: 0.0314448; 1 in 31.8\n"
     ]
    }
   ],
   "source": [
    "### Two Identical Sequences\n",
    "# calculate for single suit; multiply by 2 for both suits\n",
    "\n",
    "identical_sequences = [x+x for x in sequences[:-1]]\n",
    "valid_groups = assemble_from_groups(identical_sequences, sets, pairs)\n",
    "\n",
    "iipeikou_complete = suited_complete.loc[valid_groups,:]\n",
    "iipeikou_complete_ways = iipeikou_complete.groupby(['n_tiles', 'n_sets', 'n_pairs']).sum(numeric_only=True)['n_ways'].reset_index()\n",
    "\n",
    "winning_hands = 0\n",
    "for sou, pin, hon in product(range(4), range(4), range(4)):\n",
    "    total_tiles = iipeikou_complete_ways.loc[sou,'n_tiles'] + suited_complete_ways.loc[pin,'n_tiles'] + dragon_complete_ways.loc[hon,'n_tiles']\n",
    "    if total_tiles == 11:\n",
    "        winning_hands += iipeikou_complete_ways.loc[sou, 'n_ways'] * suited_complete_ways.loc[pin, 'n_ways'] * dragon_complete_ways.loc[hon, 'n_ways']\n",
    "\n",
    "winning_hands *= 2\n",
    "\n",
    "print(winning_hands)\n",
    "print(f\"proportion: {winning_hands/total_winning_hands:0.7f}; 1 in {total_winning_hands/winning_hands:.1f}\")"
   ]
  },
  {
   "cell_type": "code",
   "execution_count": 68,
   "metadata": {},
   "outputs": [
    {
     "name": "stdout",
     "output_type": "stream",
     "text": [
      "42467328\n",
      "proportion: 0.0068140; 1 in 147\n"
     ]
    }
   ],
   "source": [
    "### Full Straight\n",
    "# calculate for single suit; multiply by 2 for both suits\n",
    "winning_hands = suited_complete.loc[123456789,'n_ways'] # making a straight\n",
    "winning_hands *= 9 * 1 + 12 * 6 # selecting a pair (in suit + out of suit)\n",
    "winning_hands *= 2 # flipping the numeric suit\n",
    "\n",
    "print(winning_hands)\n",
    "print(f\"proportion: {winning_hands/total_winning_hands:0.7f}; 1 in {total_winning_hands/winning_hands:.0f}\")"
   ]
  },
  {
   "attachments": {},
   "cell_type": "markdown",
   "metadata": {},
   "source": [
    "## Shanten Calculations\n",
    "\n",
    "- What is the shanten distribution across all ten-tile hands, and what is the average shanten count?"
   ]
  },
  {
   "cell_type": "code",
   "execution_count": 69,
   "metadata": {},
   "outputs": [],
   "source": [
    "suited_ways = suited_df.groupby(['n_tiles', 'n_sets', 'n_blocks', 'n_pairs']).agg({'n_ways': sum}).reset_index()\n",
    "suited_ways = suited_ways[suited_ways['n_tiles'] <= 10]\n",
    "\n",
    "dragon_ways = dragon_df.groupby(['n_tiles', 'n_triplets', 'n_pairs']).agg({'n_ways': sum}).reset_index()\n",
    "dragon_ways = dragon_ways[dragon_ways['n_tiles'] <= 10]\n",
    "dragon_ways = dragon_ways.rename(columns={'n_triplets':'n_sets'})\n",
    "dragon_ways['n_blocks'] = dragon_ways['n_pairs']"
   ]
  },
  {
   "cell_type": "code",
   "execution_count": 70,
   "metadata": {},
   "outputs": [],
   "source": [
    "shanten_ways = np.zeros(7,dtype=np.int64)\n",
    "\n",
    "for sou_idx in suited_ways.index:\n",
    "    sou_part = suited_ways.loc[sou_idx]\n",
    "    \n",
    "    pin_ways = suited_ways[suited_ways['n_tiles'] <= 10-sou_part['n_tiles']]\n",
    "    for pin_idx in pin_ways.index:\n",
    "        pin_part = pin_ways.loc[pin_idx]\n",
    "\n",
    "        hon_ways = dragon_ways[dragon_ways['n_tiles'] == 10-sou_part['n_tiles']-pin_part['n_tiles']]\n",
    "        for hon_idx in hon_ways.index:\n",
    "            hon_part = hon_ways.loc[hon_idx]\n",
    "            hand = sou_part + pin_part + hon_part\n",
    "\n",
    "            # calculate shanten\n",
    "            has_pair = min(hand['n_pairs'], 1)\n",
    "            shanten = 6 - 2 * hand['n_sets'] - has_pair - min(hand['n_blocks']-has_pair, 3-hand['n_sets'])\n",
    "            shanten_ways[shanten] += sou_part['n_ways'] * pin_part['n_ways'] * hon_part['n_ways']"
   ]
  },
  {
   "cell_type": "code",
   "execution_count": 78,
   "metadata": {},
   "outputs": [
    {
     "name": "stdout",
     "output_type": "stream",
     "text": [
      "2761025887620\n",
      "2761025887620\n"
     ]
    }
   ],
   "source": [
    "print(math.comb(84,10))\n",
    "print(sum(shanten_ways))"
   ]
  },
  {
   "cell_type": "code",
   "execution_count": 74,
   "metadata": {},
   "outputs": [
    {
     "name": "stdout",
     "output_type": "stream",
     "text": [
      "hands by shanten (in billions):\n",
      "[  14.024  369.033 1367.33   881.904  125.447    3.287    0.   ]\n",
      "[0.005079 0.133658 0.495225 0.319412 0.045435 0.001191 0.      ]\n",
      "\n",
      "tenpai chance: 0.0050794; 1 in 197\n",
      "average shanten: 2.27\n"
     ]
    }
   ],
   "source": [
    "print(f'hands by shanten (in billions):')\n",
    "print(np.round(shanten_ways / 1e9, 3))\n",
    "print(np.round(shanten_ways / shanten_ways.sum(), 6))\n",
    "print('')\n",
    "print(f'tenpai chance: {shanten_ways[0] / shanten_ways.sum():0.7f}; 1 in {shanten_ways.sum() / shanten_ways[0]:0.0f}')\n",
    "print(f'average shanten: {(shanten_ways * np.arange(7)).sum() / shanten_ways.sum():0.2f}')"
   ]
  },
  {
   "cell_type": "code",
   "execution_count": null,
   "metadata": {},
   "outputs": [],
   "source": []
  }
 ],
 "metadata": {
  "kernelspec": {
   "display_name": "base",
   "language": "python",
   "name": "python3"
  },
  "language_info": {
   "codemirror_mode": {
    "name": "ipython",
    "version": 3
   },
   "file_extension": ".py",
   "mimetype": "text/x-python",
   "name": "python",
   "nbconvert_exporter": "python",
   "pygments_lexer": "ipython3",
   "version": "3.9.16"
  },
  "orig_nbformat": 4
 },
 "nbformat": 4,
 "nbformat_minor": 2
}
