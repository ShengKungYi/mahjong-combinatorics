{
 "cells": [
  {
   "attachments": {},
   "cell_type": "markdown",
   "metadata": {},
   "source": [
    "## One-Set Intro Mahjong Probability Calculations\n",
    "\n",
    "This notebook tabulates _shanten_ probabilities for hands in an introductory version of Mahjong featuring the following properties:\n",
    "- **Tiles**: 36 tiles from a single numeric suit (dots); 4 copies each of the numbers 1-9.\n",
    "- **Hand**: A completed hand has five tiles, consisting of one set of three (sequence or triplet) and one pair."
   ]
  },
  {
   "cell_type": "code",
   "execution_count": 2,
   "metadata": {},
   "outputs": [],
   "source": [
    "import numpy as np\n",
    "import pandas as pd"
   ]
  },
  {
   "cell_type": "code",
   "execution_count": 10,
   "metadata": {},
   "outputs": [],
   "source": [
    "# load pre-computed tile combination properties\n",
    "suited_df = pd.read_csv('./shanten_suuhai.csv', \n",
    "                        index_col='tile_int', \n",
    "                        dtype={'tile_vector': str})\n",
    "\n",
    "# trim to only combinations with four or five tiles\n",
    "active_df   = suited_df[suited_df['n_tiles'] == 5]\n",
    "inactive_df = suited_df[suited_df['n_tiles'] == 4]"
   ]
  },
  {
   "cell_type": "code",
   "execution_count": 11,
   "metadata": {},
   "outputs": [
    {
     "name": "stdout",
     "output_type": "stream",
     "text": [
      "(1278, 11)\n"
     ]
    },
    {
     "data": {
      "text/html": [
       "<div>\n",
       "<style scoped>\n",
       "    .dataframe tbody tr th:only-of-type {\n",
       "        vertical-align: middle;\n",
       "    }\n",
       "\n",
       "    .dataframe tbody tr th {\n",
       "        vertical-align: top;\n",
       "    }\n",
       "\n",
       "    .dataframe thead th {\n",
       "        text-align: right;\n",
       "    }\n",
       "</style>\n",
       "<table border=\"1\" class=\"dataframe\">\n",
       "  <thead>\n",
       "    <tr style=\"text-align: right;\">\n",
       "      <th></th>\n",
       "      <th>tile_vector</th>\n",
       "      <th>n_tiles</th>\n",
       "      <th>n_sets</th>\n",
       "      <th>n_triplets</th>\n",
       "      <th>n_sequences</th>\n",
       "      <th>n_blocks</th>\n",
       "      <th>n_pairs</th>\n",
       "      <th>max_pairs</th>\n",
       "      <th>n_koritsu</th>\n",
       "      <th>n_terminals</th>\n",
       "      <th>n_ways</th>\n",
       "    </tr>\n",
       "    <tr>\n",
       "      <th>tile_int</th>\n",
       "      <th></th>\n",
       "      <th></th>\n",
       "      <th></th>\n",
       "      <th></th>\n",
       "      <th></th>\n",
       "      <th></th>\n",
       "      <th></th>\n",
       "      <th></th>\n",
       "      <th></th>\n",
       "      <th></th>\n",
       "      <th></th>\n",
       "    </tr>\n",
       "  </thead>\n",
       "  <tbody>\n",
       "    <tr>\n",
       "      <th>35777</th>\n",
       "      <td>001010300</td>\n",
       "      <td>5</td>\n",
       "      <td>1</td>\n",
       "      <td>1</td>\n",
       "      <td>0</td>\n",
       "      <td>1</td>\n",
       "      <td>0</td>\n",
       "      <td>0</td>\n",
       "      <td>0</td>\n",
       "      <td>0</td>\n",
       "      <td>64</td>\n",
       "    </tr>\n",
       "    <tr>\n",
       "      <th>27789</th>\n",
       "      <td>010000211</td>\n",
       "      <td>5</td>\n",
       "      <td>1</td>\n",
       "      <td>0</td>\n",
       "      <td>1</td>\n",
       "      <td>0</td>\n",
       "      <td>0</td>\n",
       "      <td>1</td>\n",
       "      <td>2</td>\n",
       "      <td>1</td>\n",
       "      <td>384</td>\n",
       "    </tr>\n",
       "    <tr>\n",
       "      <th>55789</th>\n",
       "      <td>000020111</td>\n",
       "      <td>5</td>\n",
       "      <td>1</td>\n",
       "      <td>0</td>\n",
       "      <td>1</td>\n",
       "      <td>1</td>\n",
       "      <td>1</td>\n",
       "      <td>1</td>\n",
       "      <td>0</td>\n",
       "      <td>1</td>\n",
       "      <td>384</td>\n",
       "    </tr>\n",
       "    <tr>\n",
       "      <th>22588</th>\n",
       "      <td>020010020</td>\n",
       "      <td>5</td>\n",
       "      <td>0</td>\n",
       "      <td>0</td>\n",
       "      <td>0</td>\n",
       "      <td>2</td>\n",
       "      <td>2</td>\n",
       "      <td>2</td>\n",
       "      <td>1</td>\n",
       "      <td>0</td>\n",
       "      <td>144</td>\n",
       "    </tr>\n",
       "    <tr>\n",
       "      <th>12388</th>\n",
       "      <td>111000020</td>\n",
       "      <td>5</td>\n",
       "      <td>1</td>\n",
       "      <td>0</td>\n",
       "      <td>1</td>\n",
       "      <td>1</td>\n",
       "      <td>1</td>\n",
       "      <td>1</td>\n",
       "      <td>0</td>\n",
       "      <td>1</td>\n",
       "      <td>384</td>\n",
       "    </tr>\n",
       "  </tbody>\n",
       "</table>\n",
       "</div>"
      ],
      "text/plain": [
       "         tile_vector  n_tiles  n_sets  n_triplets  n_sequences  n_blocks  \\\n",
       "tile_int                                                                   \n",
       "35777      001010300        5       1           1            0         1   \n",
       "27789      010000211        5       1           0            1         0   \n",
       "55789      000020111        5       1           0            1         1   \n",
       "22588      020010020        5       0           0            0         2   \n",
       "12388      111000020        5       1           0            1         1   \n",
       "\n",
       "          n_pairs  max_pairs  n_koritsu  n_terminals  n_ways  \n",
       "tile_int                                                      \n",
       "35777           0          0          0            0      64  \n",
       "27789           0          1          2            1     384  \n",
       "55789           1          1          0            1     384  \n",
       "22588           2          2          1            0     144  \n",
       "12388           1          1          0            1     384  "
      ]
     },
     "execution_count": 11,
     "metadata": {},
     "output_type": "execute_result"
    }
   ],
   "source": [
    "print(active_df.shape)\n",
    "active_df.sample(5)"
   ]
  },
  {
   "cell_type": "code",
   "execution_count": 12,
   "metadata": {},
   "outputs": [
    {
     "name": "stdout",
     "output_type": "stream",
     "text": [
      "(495, 11)\n"
     ]
    },
    {
     "data": {
      "text/html": [
       "<div>\n",
       "<style scoped>\n",
       "    .dataframe tbody tr th:only-of-type {\n",
       "        vertical-align: middle;\n",
       "    }\n",
       "\n",
       "    .dataframe tbody tr th {\n",
       "        vertical-align: top;\n",
       "    }\n",
       "\n",
       "    .dataframe thead th {\n",
       "        text-align: right;\n",
       "    }\n",
       "</style>\n",
       "<table border=\"1\" class=\"dataframe\">\n",
       "  <thead>\n",
       "    <tr style=\"text-align: right;\">\n",
       "      <th></th>\n",
       "      <th>tile_vector</th>\n",
       "      <th>n_tiles</th>\n",
       "      <th>n_sets</th>\n",
       "      <th>n_triplets</th>\n",
       "      <th>n_sequences</th>\n",
       "      <th>n_blocks</th>\n",
       "      <th>n_pairs</th>\n",
       "      <th>max_pairs</th>\n",
       "      <th>n_koritsu</th>\n",
       "      <th>n_terminals</th>\n",
       "      <th>n_ways</th>\n",
       "    </tr>\n",
       "    <tr>\n",
       "      <th>tile_int</th>\n",
       "      <th></th>\n",
       "      <th></th>\n",
       "      <th></th>\n",
       "      <th></th>\n",
       "      <th></th>\n",
       "      <th></th>\n",
       "      <th></th>\n",
       "      <th></th>\n",
       "      <th></th>\n",
       "      <th></th>\n",
       "      <th></th>\n",
       "    </tr>\n",
       "  </thead>\n",
       "  <tbody>\n",
       "    <tr>\n",
       "      <th>2445</th>\n",
       "      <td>010210000</td>\n",
       "      <td>4</td>\n",
       "      <td>0</td>\n",
       "      <td>0</td>\n",
       "      <td>0</td>\n",
       "      <td>2</td>\n",
       "      <td>0</td>\n",
       "      <td>1</td>\n",
       "      <td>0</td>\n",
       "      <td>0</td>\n",
       "      <td>96</td>\n",
       "    </tr>\n",
       "    <tr>\n",
       "      <th>6688</th>\n",
       "      <td>000002020</td>\n",
       "      <td>4</td>\n",
       "      <td>0</td>\n",
       "      <td>0</td>\n",
       "      <td>0</td>\n",
       "      <td>2</td>\n",
       "      <td>2</td>\n",
       "      <td>2</td>\n",
       "      <td>0</td>\n",
       "      <td>0</td>\n",
       "      <td>36</td>\n",
       "    </tr>\n",
       "    <tr>\n",
       "      <th>4458</th>\n",
       "      <td>000210010</td>\n",
       "      <td>4</td>\n",
       "      <td>0</td>\n",
       "      <td>0</td>\n",
       "      <td>0</td>\n",
       "      <td>1</td>\n",
       "      <td>1</td>\n",
       "      <td>1</td>\n",
       "      <td>1</td>\n",
       "      <td>0</td>\n",
       "      <td>96</td>\n",
       "    </tr>\n",
       "    <tr>\n",
       "      <th>1199</th>\n",
       "      <td>200000002</td>\n",
       "      <td>4</td>\n",
       "      <td>0</td>\n",
       "      <td>0</td>\n",
       "      <td>0</td>\n",
       "      <td>2</td>\n",
       "      <td>2</td>\n",
       "      <td>2</td>\n",
       "      <td>0</td>\n",
       "      <td>2</td>\n",
       "      <td>36</td>\n",
       "    </tr>\n",
       "    <tr>\n",
       "      <th>1466</th>\n",
       "      <td>100102000</td>\n",
       "      <td>4</td>\n",
       "      <td>0</td>\n",
       "      <td>0</td>\n",
       "      <td>0</td>\n",
       "      <td>1</td>\n",
       "      <td>1</td>\n",
       "      <td>1</td>\n",
       "      <td>1</td>\n",
       "      <td>1</td>\n",
       "      <td>96</td>\n",
       "    </tr>\n",
       "  </tbody>\n",
       "</table>\n",
       "</div>"
      ],
      "text/plain": [
       "         tile_vector  n_tiles  n_sets  n_triplets  n_sequences  n_blocks  \\\n",
       "tile_int                                                                   \n",
       "2445       010210000        4       0           0            0         2   \n",
       "6688       000002020        4       0           0            0         2   \n",
       "4458       000210010        4       0           0            0         1   \n",
       "1199       200000002        4       0           0            0         2   \n",
       "1466       100102000        4       0           0            0         1   \n",
       "\n",
       "          n_pairs  max_pairs  n_koritsu  n_terminals  n_ways  \n",
       "tile_int                                                      \n",
       "2445            0          1          0            0      96  \n",
       "6688            2          2          0            0      36  \n",
       "4458            1          1          1            0      96  \n",
       "1199            2          2          0            2      36  \n",
       "1466            1          1          1            1      96  "
      ]
     },
     "execution_count": 12,
     "metadata": {},
     "output_type": "execute_result"
    }
   ],
   "source": [
    "print(inactive_df.shape)\n",
    "inactive_df.sample(5)"
   ]
  },
  {
   "cell_type": "code",
   "execution_count": 4,
   "metadata": {},
   "outputs": [],
   "source": [
    "def vector_to_int(t_vector):\n",
    "    t_int = ''\n",
    "    for i, cnt in zip(np.arange(1,len(t_vector)+1),t_vector):\n",
    "        t_int += cnt * str(i)\n",
    "    if t_int:\n",
    "        return int(t_int)\n",
    "    else:\n",
    "        return 0\n",
    "\n",
    "def int_to_vector(t_int, n_types=9):\n",
    "    t_vector = np.zeros(n_types, dtype=int)\n",
    "    t_int = str(t_int)\n",
    "    for i in t_int:\n",
    "        t_vector[int(i)-1] += 1\n",
    "    return t_vector"
   ]
  },
  {
   "attachments": {},
   "cell_type": "markdown",
   "metadata": {},
   "source": [
    "### Hand Completion Probabilities\n",
    "\n",
    "For hands with five tiles:\n",
    "- How many possible hands are there?\n",
    "- How many of those hands form a winning combination?"
   ]
  },
  {
   "cell_type": "code",
   "execution_count": 14,
   "metadata": {},
   "outputs": [
    {
     "name": "stdout",
     "output_type": "stream",
     "text": [
      "376992\n"
     ]
    }
   ],
   "source": [
    "### How many possible hands are there, winning or otherwise?\n",
    "total_hands = active_df['n_ways'].sum()\n",
    "print(total_hands)"
   ]
  },
  {
   "cell_type": "code",
   "execution_count": 17,
   "metadata": {},
   "outputs": [
    {
     "name": "stdout",
     "output_type": "stream",
     "text": [
      "19200\n",
      "proportion: 0.0509295; 1 in 20\n"
     ]
    }
   ],
   "source": [
    "### How many possible winning hands are there?\n",
    "active_complete = active_df.query('(3 * n_sets + 2 * n_pairs == n_tiles) & (n_pairs == 1)')\n",
    "winning_hands = active_complete['n_ways'].sum()\n",
    "\n",
    "print(winning_hands)\n",
    "print(f\"proportion: {winning_hands/total_hands:0.7f}; 1 in {total_hands/winning_hands:.0f}\")"
   ]
  },
  {
   "attachments": {},
   "cell_type": "markdown",
   "metadata": {},
   "source": [
    "### Shanten Probabilities\n",
    "\n",
    "For hands with four tiles:\n",
    "- How many hands are there?\n",
    "- What is the probability that a random hand is ready for completion (i.e. _tenpai_)?\n",
    "- What is the probability that a random hand is one away from ready (i.e. _iishanten_)?\n",
    "\n",
    "Due to the limited number of tiles, this is the maximum shanten count!"
   ]
  },
  {
   "cell_type": "code",
   "execution_count": 22,
   "metadata": {},
   "outputs": [
    {
     "name": "stdout",
     "output_type": "stream",
     "text": [
      "58905\n"
     ]
    }
   ],
   "source": [
    "### How many possible hands are there?\n",
    "total_hands = inactive_df['n_ways'].sum()\n",
    "print(total_hands)"
   ]
  },
  {
   "cell_type": "code",
   "execution_count": 33,
   "metadata": {},
   "outputs": [
    {
     "name": "stdout",
     "output_type": "stream",
     "text": [
      "21753\n",
      "proportion: 0.3692895; 1 in 2.71\n"
     ]
    }
   ],
   "source": [
    "### How many tenpai hands are there?\n",
    "inactive_tenpai = inactive_df.query('(n_sets == 1) | (n_pairs == 2) | (n_blocks == 2 & n_pairs == 1)')\n",
    "tenpai_hands = inactive_tenpai['n_ways'].sum()\n",
    "\n",
    "print(tenpai_hands)\n",
    "print(f\"proportion: {tenpai_hands/total_hands:0.7f}; 1 in {total_hands/tenpai_hands:.2f}\")"
   ]
  },
  {
   "cell_type": "code",
   "execution_count": 46,
   "metadata": {},
   "outputs": [
    {
     "name": "stdout",
     "output_type": "stream",
     "text": [
      "37152\n",
      "proportion: 0.6307105; 1 in 1.59\n"
     ]
    }
   ],
   "source": [
    "### How many iishanten hands are there?\n",
    "inactive_iishanten = inactive_df.query('(n_blocks == 2 & n_pairs == 0) | (n_blocks == 1)')\n",
    "iishanten_hands = inactive_iishanten['n_ways'].sum()\n",
    "\n",
    "print(iishanten_hands)\n",
    "print(f\"proportion: {iishanten_hands/total_hands:0.7f}; 1 in {total_hands/iishanten_hands:.2f}\")"
   ]
  },
  {
   "cell_type": "code",
   "execution_count": 47,
   "metadata": {},
   "outputs": [
    {
     "name": "stdout",
     "output_type": "stream",
     "text": [
      "average shanten: 0.63\n"
     ]
    }
   ],
   "source": [
    "avg_shanten = (0 * tenpai_hands + 1 * iishanten_hands)/total_hands\n",
    "print(f\"average shanten: {avg_shanten:.2f}\")"
   ]
  },
  {
   "cell_type": "code",
   "execution_count": null,
   "metadata": {},
   "outputs": [],
   "source": []
  }
 ],
 "metadata": {
  "kernelspec": {
   "display_name": "base",
   "language": "python",
   "name": "python3"
  },
  "language_info": {
   "codemirror_mode": {
    "name": "ipython",
    "version": 3
   },
   "file_extension": ".py",
   "mimetype": "text/x-python",
   "name": "python",
   "nbconvert_exporter": "python",
   "pygments_lexer": "ipython3",
   "version": "3.9.16"
  },
  "orig_nbformat": 4
 },
 "nbformat": 4,
 "nbformat_minor": 2
}
